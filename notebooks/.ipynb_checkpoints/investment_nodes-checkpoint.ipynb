{
 "cells": [
  {
   "cell_type": "markdown",
   "metadata": {},
   "source": [
    "### Syscoin Supply + Masternode Reward Simulations\n",
    "* https://etherscan.io/chart/transactionfee"
   ]
  },
  {
   "cell_type": "code",
   "execution_count": 1,
   "metadata": {},
   "outputs": [
    {
     "data": {
      "text/plain": [
       "'/Users/ian_moore/repos'"
      ]
     },
     "execution_count": 1,
     "metadata": {},
     "output_type": "execute_result"
    }
   ],
   "source": [
    "import datetime\n",
    "import copy\n",
    "import numpy as np\n",
    "import pandas as pd\n",
    "import matplotlib.pyplot as plt\n",
    "from scipy.optimize import fmin, minimize\n",
    "import statsmodels.api as sm\n",
    "from pymc3.gp.util import plot_gp_dist\n",
    "\n",
    "import os\n",
    "cwd =  os.getcwd()\n",
    "cwd =  os.getcwd().replace(\"syscoin_research/notebooks\",\"\")\n",
    "os.chdir(cwd)\n",
    "os.getcwd()"
   ]
  },
  {
   "cell_type": "code",
   "execution_count": 2,
   "metadata": {},
   "outputs": [],
   "source": [
    "# Jun 03 2019 (start)\n",
    "# supply = 554103161\n",
    "\n",
    "# June 28th, 2021\n",
    "# supply 614730694\n",
    "\n",
    "# Aug 23, 2021 \n",
    "# supply 617746652\n",
    "\n",
    "# July 12th, 2022 \n",
    "# supply 650631036 + 100000000 - 13116676 = 737514361"
   ]
  },
  {
   "cell_type": "markdown",
   "metadata": {},
   "source": [
    "### Simulate Prices"
   ]
  },
  {
   "cell_type": "code",
   "execution_count": 3,
   "metadata": {},
   "outputs": [],
   "source": [
    "MASTERNODE_FEE = 100000\n",
    "MASTERNODE_SUPPLY_SHARE = 0.34\n",
    "\n",
    "def n_masternodes(supply_arr, share = MASTERNODE_SUPPLY_SHARE):\n",
    "    return share*supply_arr/MASTERNODE_FEE\n",
    "\n",
    "def func_exp(x, a, b, c):\n",
    "    return a * np.exp(b * x) + c\n",
    "\n",
    "def gen_drift(N):    \n",
    "    empty_dataset = np.zeros(N)\n",
    "    mod = sm.tsa.SARIMAX(empty_dataset, order=(1, 1, 1), initialization='diffuse')\n",
    "    return mod.simulate([0.5, -5/3, 5/6, 4**2], N)\n",
    "\n",
    "def scale_array(dat, out_range=(-1, 1)):\n",
    "    domain = [np.min(dat, axis=0), np.max(dat, axis=0)]\n",
    "\n",
    "    def interp(x):\n",
    "        return out_range[0] * (1.0 - x) + out_range[1] * x\n",
    "\n",
    "    def uninterp(x):\n",
    "        b = 0\n",
    "        if (domain[1] - domain[0]) != 0:\n",
    "            b = domain[1] - domain[0]\n",
    "        else:\n",
    "            b =  1.0 / domain[1]\n",
    "        return (x - domain[0]) / b\n",
    "\n",
    "    return interp(uninterp(dat))\n",
    "\n",
    "def gen_prices(N, lwr_price, upr_price):\n",
    "    \n",
    "    x = range(1,N+1)\n",
    "    y_trend = np.array([func_exp(e, 1, 0.002,0) for e in x])\n",
    "    y_trend = scale_array(y_trend, (lwr_price, upr_price))\n",
    "    drift = scale_array(np.abs(gen_drift(N)), (0, 1))\n",
    "    sim = lwr_price + y_trend*drift\n",
    "    \n",
    "    return sim"
   ]
  },
  {
   "cell_type": "code",
   "execution_count": 4,
   "metadata": {},
   "outputs": [
    {
     "data": {
      "text/plain": [
       "737514361.2264771"
      ]
     },
     "execution_count": 4,
     "metadata": {},
     "output_type": "execute_result"
    }
   ],
   "source": [
    "utxo_supply = 650631037.54678924\n",
    "nevm_supply = 100000000 - 13116676.320312181517900351\n",
    "tot_supply = utxo_supply + nevm_supply # July 12th, 2022\n",
    "tot_supply"
   ]
  },
  {
   "cell_type": "markdown",
   "metadata": {},
   "source": [
    "### Ethereum Transaction Fees\n",
    "* https://etherscan.io/chart/transactionfee\n",
    "* last download: July 12th, 2022 "
   ]
  },
  {
   "cell_type": "code",
   "execution_count": 5,
   "metadata": {},
   "outputs": [],
   "source": [
    "tx_fee = pd.read_csv('sys_notebooks/resources/ETHTransactionFee.csv')\n",
    "tx_fee.columns = ['date', 'timestamp','tx_fee']\n",
    "tx_fee = tx_fee.assign(tx_fee = [float(tx)/1e18 for tx in tx_fee['tx_fee'].values])\n",
    "date_split = [t.rstrip().split('/') for t in tx_fee['date'].values]\n",
    "date_times = [datetime.date(int(t[2]), int(t[0]), int(t[1])) for t in date_split]\n",
    "tx_fee = tx_fee.assign(date_time = date_times)"
   ]
  },
  {
   "cell_type": "code",
   "execution_count": 6,
   "metadata": {},
   "outputs": [],
   "source": [
    "INITIAL_SYS_SUPPLY = 614730694.63 # June 28th, 2021\n",
    "MAX_COINS = 888000000\n",
    "DAYS_IN_YEAR = 365\n",
    "ANNUAL_INFLATION = 0.05\n",
    "DAILY_PERCENTAGE_GRWTH = (1+ANNUAL_INFLATION)**(1/DAYS_IN_YEAR)\n",
    "LAST_DATE = '2021-06-28 00:00:00'\n",
    "START_DATE = '2015-11-07 00:00:00'"
   ]
  },
  {
   "cell_type": "code",
   "execution_count": 7,
   "metadata": {},
   "outputs": [],
   "source": [
    "def supplyNYears(A,t):\n",
    "    return A*(1.05)**t\n",
    "\n",
    "def supplyNDays(A,t):\n",
    "    daysInYr = 366 if isLeapYear(getDate(t, strt_date = LAST_DATE).year) else 365\n",
    "    return A*(1.05)**(t/365)"
   ]
  },
  {
   "cell_type": "code",
   "execution_count": 8,
   "metadata": {},
   "outputs": [],
   "source": [
    "def isLeapYear(yr):\n",
    "    return bool((yr-2000) % 4 == 0) \n",
    "\n",
    "def getDate(t, strt_date = START_DATE):\n",
    "    return datetime.datetime.strptime(strt_date, \"%Y-%m-%d %H:%M:%S\") + datetime.timedelta(days=t) "
   ]
  },
  {
   "cell_type": "code",
   "execution_count": 9,
   "metadata": {},
   "outputs": [],
   "source": [
    "N = 365\n",
    "STRT_DATE = '2019-06-03 00:00:00'\n",
    "STRT_SUPPLY = 554103161\n",
    "STRT_YR = 2019\n",
    "DEFLATION = 0.05\n",
    "INITIAL_BLK_REWARD = 151767*12/(365*24*60) + 7.81 + 23.45\n",
    "NUM_DAILY_BLOCKS = 24*60\n",
    "\n",
    "def gen_block_rewards(strt_date = STRT_DATE,\n",
    "                      strt_supply = STRT_SUPPLY,\n",
    "                      ini_blk_reward = INITIAL_BLK_REWARD,\n",
    "                      n = N,\n",
    "                      deflation = DEFLATION,\n",
    "                      num_daily_blocks = NUM_DAILY_BLOCKS,\n",
    "                      nevm_rewards = None,\n",
    "                      pow_rewards = None):\n",
    "    \n",
    "    STRT_YR = datetime.datetime.strptime(strt_date, \"%Y-%m-%d %H:%M:%S\").year\n",
    "    blk_rewards = [ini_blk_reward]\n",
    "    dates = np.array([getDate(t, strt_date = strt_date) for t in range(0,n)])\n",
    "    da = np.array([dates.flatten()[t].day for t in range(0,n)])\n",
    "    mo = np.array([dates.flatten()[t].month for t in range(0,n)])\n",
    "    yr = np.array([dates.flatten()[t].year for t in range(0,n)])\n",
    "\n",
    "    rewards = np.repeat(0.0,n)\n",
    "    rewards[0] = blk_rewards[0]\n",
    "\n",
    "    for k in range(1, n):\n",
    "        diff_yr = yr[k] - yr[k-1]\n",
    "        rewards[k-1] = blk_rewards[len(blk_rewards)-1]\n",
    "        \n",
    "        if diff_yr == 1:\n",
    "            blk_reward = blk_rewards[len(blk_rewards)-1]\n",
    "            blk_rewards.append(blk_reward - deflation*blk_reward)\n",
    "\n",
    "    rewards[n-1] = rewards[n-2]  \n",
    "    \n",
    "    daily_rewards = rewards*num_daily_blocks       \n",
    "            \n",
    "    df = pd.DataFrame({'dates':dates.flatten(),\n",
    "                       'yr':yr.flatten(),\n",
    "                       'mo':mo.flatten(),\n",
    "                       'da':da.flatten(),\n",
    "                       'blk_reward':rewards,\n",
    "                       'daily_rewards':daily_rewards,\n",
    "                       'supply':strt_supply+np.cumsum(daily_rewards)})\n",
    "    \n",
    "    if (nevm_rewards != None): \n",
    "        df.insert(loc=5, column='nevm_rewards', value=nevm_rewards)\n",
    "\n",
    "    if (pow_rewards != None): \n",
    "        df.insert(loc=6, column='pow_rewards', value=pow_rewards)  \n",
    "        \n",
    "    if (nevm_rewards != None) & (pow_rewards != None):\n",
    "        rewards = rewards + np.repeat(nevm_rewards,n)\n",
    "        daily_rewards = rewards*num_daily_blocks \n",
    "        df = df.assign(daily_rewards=daily_rewards)\n",
    "          \n",
    "    return df"
   ]
  },
  {
   "cell_type": "markdown",
   "metadata": {},
   "source": [
    "### Supply Pre-NEVM"
   ]
  },
  {
   "cell_type": "code",
   "execution_count": 10,
   "metadata": {},
   "outputs": [],
   "source": [
    "INDEX = 812\n",
    "SUPPLY_AT_INDEX = 617746652 # Aug 23, 2021 \n",
    "N_DAYS_TO_NEVM = 917\n",
    "\n",
    "def objective_function(alpha):\n",
    "    \n",
    "    pow_df = gen_block_rewards(strt_date = STRT_DATE, \n",
    "                           strt_supply = STRT_SUPPLY, \n",
    "                           ini_blk_reward = alpha*38.5,\n",
    "                           n = N_DAYS_TO_NEVM)\n",
    "                  \n",
    "    return abs(SUPPLY_AT_INDEX - pow_df['supply'].iloc[INDEX])"
   ]
  },
  {
   "cell_type": "markdown",
   "metadata": {},
   "source": [
    "#### Estimate senority scaling factor"
   ]
  },
  {
   "cell_type": "code",
   "execution_count": 11,
   "metadata": {},
   "outputs": [
    {
     "data": {
      "text/plain": [
       "1.4874179911283243"
      ]
     },
     "execution_count": 11,
     "metadata": {},
     "output_type": "execute_result"
    }
   ],
   "source": [
    "ALPHA_INIT = 1.4872300387520823\n",
    "result = minimize(objective_function, ALPHA_INIT, method='SLSQP', options={'maxiter': 1000})\n",
    "senority_scaling_factor = result.x[0]\n",
    "senority_scaling_factor"
   ]
  },
  {
   "cell_type": "code",
   "execution_count": 12,
   "metadata": {},
   "outputs": [],
   "source": [
    "STRT_DATE = '2019-06-03 00:00:00'\n",
    "STRT_SUPPLY = 554103161\n",
    "NUM_DAILY_BLOCKS = 24*60\n",
    "INITIAL_BLK_REWARD = senority_scaling_factor*38.5\n",
    "\n",
    "pre_nevm = gen_block_rewards(strt_date = STRT_DATE, \n",
    "                           strt_supply = STRT_SUPPLY, \n",
    "                           ini_blk_reward = INITIAL_BLK_REWARD,\n",
    "                           n = N_DAYS_TO_NEVM)"
   ]
  },
  {
   "cell_type": "code",
   "execution_count": 13,
   "metadata": {},
   "outputs": [
    {
     "data": {
      "text/html": [
       "<div>\n",
       "<style scoped>\n",
       "    .dataframe tbody tr th:only-of-type {\n",
       "        vertical-align: middle;\n",
       "    }\n",
       "\n",
       "    .dataframe tbody tr th {\n",
       "        vertical-align: top;\n",
       "    }\n",
       "\n",
       "    .dataframe thead th {\n",
       "        text-align: right;\n",
       "    }\n",
       "</style>\n",
       "<table border=\"1\" class=\"dataframe\">\n",
       "  <thead>\n",
       "    <tr style=\"text-align: right;\">\n",
       "      <th></th>\n",
       "      <th>dates</th>\n",
       "      <th>yr</th>\n",
       "      <th>mo</th>\n",
       "      <th>da</th>\n",
       "      <th>blk_reward</th>\n",
       "      <th>daily_rewards</th>\n",
       "      <th>supply</th>\n",
       "    </tr>\n",
       "  </thead>\n",
       "  <tbody>\n",
       "    <tr>\n",
       "      <th>914</th>\n",
       "      <td>2021-12-03</td>\n",
       "      <td>2021</td>\n",
       "      <td>12</td>\n",
       "      <td>3</td>\n",
       "      <td>51.682197</td>\n",
       "      <td>74422.364219</td>\n",
       "      <td>6.253377e+08</td>\n",
       "    </tr>\n",
       "    <tr>\n",
       "      <th>915</th>\n",
       "      <td>2021-12-04</td>\n",
       "      <td>2021</td>\n",
       "      <td>12</td>\n",
       "      <td>4</td>\n",
       "      <td>51.682197</td>\n",
       "      <td>74422.364219</td>\n",
       "      <td>6.254122e+08</td>\n",
       "    </tr>\n",
       "    <tr>\n",
       "      <th>916</th>\n",
       "      <td>2021-12-05</td>\n",
       "      <td>2021</td>\n",
       "      <td>12</td>\n",
       "      <td>5</td>\n",
       "      <td>51.682197</td>\n",
       "      <td>74422.364219</td>\n",
       "      <td>6.254866e+08</td>\n",
       "    </tr>\n",
       "  </tbody>\n",
       "</table>\n",
       "</div>"
      ],
      "text/plain": [
       "         dates    yr  mo  da  blk_reward  daily_rewards        supply\n",
       "914 2021-12-03  2021  12   3   51.682197   74422.364219  6.253377e+08\n",
       "915 2021-12-04  2021  12   4   51.682197   74422.364219  6.254122e+08\n",
       "916 2021-12-05  2021  12   5   51.682197   74422.364219  6.254866e+08"
      ]
     },
     "execution_count": 13,
     "metadata": {},
     "output_type": "execute_result"
    }
   ],
   "source": [
    "pre_nevm.tail(3)"
   ]
  },
  {
   "cell_type": "markdown",
   "metadata": {},
   "source": [
    "### Supply Post-NEVM"
   ]
  },
  {
   "cell_type": "code",
   "execution_count": 14,
   "metadata": {},
   "outputs": [],
   "source": [
    "N = 12*365+3\n",
    "STRT_DATE = '2021-12-06 00:00:00'\n",
    "STRT_SUPPLY = pre_nevm['supply'].iloc[-1]\n",
    "NUM_DAILY_BLOCKS = 24*60*60 / 150\n",
    "INITIAL_BLK_REWARD = 2.5*(151767*12/(365*24*60) + 7.81 + 23.45)\n",
    "\n",
    "nevm_lwr = gen_block_rewards(strt_date = STRT_DATE, \n",
    "                           strt_supply = STRT_SUPPLY, \n",
    "                           ini_blk_reward = INITIAL_BLK_REWARD,\n",
    "                           num_daily_blocks = NUM_DAILY_BLOCKS,\n",
    "                           n = N,\n",
    "                           nevm_rewards = 10.55,\n",
    "                           pow_rewards = 5.27)"
   ]
  },
  {
   "cell_type": "code",
   "execution_count": 15,
   "metadata": {},
   "outputs": [],
   "source": [
    "N = 12*365+3\n",
    "STRT_DATE = '2021-12-06 00:00:00'\n",
    "STRT_SUPPLY = pre_nevm['supply'].iloc[-1]\n",
    "NUM_DAILY_BLOCKS = 24*60*60 / 150\n",
    "INITIAL_BLK_REWARD = 2.5*pre_nevm['blk_reward'].iloc[-1]\n",
    "\n",
    "nevm_med = gen_block_rewards(strt_date = STRT_DATE, \n",
    "                           strt_supply = STRT_SUPPLY, \n",
    "                           ini_blk_reward = INITIAL_BLK_REWARD,\n",
    "                           num_daily_blocks = NUM_DAILY_BLOCKS,\n",
    "                           n = N,\n",
    "                           nevm_rewards = 10.55,\n",
    "                           pow_rewards = 10.55)"
   ]
  },
  {
   "cell_type": "code",
   "execution_count": 16,
   "metadata": {},
   "outputs": [],
   "source": [
    "N = 12*365+3\n",
    "STRT_DATE = '2021-12-06 00:00:00'\n",
    "STRT_SUPPLY = pre_nevm['supply'].iloc[-1]\n",
    "NUM_DAILY_BLOCKS = 24*60*60 / 150\n",
    "INITIAL_BLK_REWARD = 2.5*(151767*12/(365*24*60) + 7.81 + 46.9)\n",
    "\n",
    "nevm_upr = gen_block_rewards(strt_date = STRT_DATE, \n",
    "                           strt_supply = STRT_SUPPLY, \n",
    "                           ini_blk_reward = INITIAL_BLK_REWARD,\n",
    "                           num_daily_blocks = NUM_DAILY_BLOCKS,\n",
    "                           n = N,\n",
    "                           nevm_rewards = 10.55,\n",
    "                           pow_rewards = 10.55)"
   ]
  },
  {
   "cell_type": "code",
   "execution_count": 17,
   "metadata": {},
   "outputs": [],
   "source": [
    "nevm_df = nevm_lwr.iloc[:, [0,1,2,3]]\n",
    "nevm_df.insert(loc=4, column='blk_reward_lwr', value=nevm_lwr['blk_reward'].values)\n",
    "nevm_df.insert(loc=5, column='nevm_rewards_lwr', value=nevm_lwr['nevm_rewards'].values)\n",
    "nevm_df.insert(loc=6, column='pow_rewards_lwr', value=nevm_lwr['pow_rewards'].values)\n",
    "nevm_df.insert(loc=7, column='daily_rewards_lwr', value=nevm_lwr['daily_rewards'].values)\n",
    "nevm_df.insert(loc=8, column='supply_lwr', value=nevm_lwr['supply'].values)\n",
    "\n",
    "nevm_df.insert(loc=9, column='blk_reward_upr', value=nevm_upr['blk_reward'].values)\n",
    "nevm_df.insert(loc=10, column='nevm_rewards_upr', value=nevm_upr['nevm_rewards'].values)\n",
    "nevm_df.insert(loc=11, column='pow_rewards_upr', value=nevm_upr['pow_rewards'].values)\n",
    "nevm_df.insert(loc=12, column='daily_rewards_upr', value=nevm_upr['daily_rewards'].values)\n",
    "nevm_df.insert(loc=13, column='supply_upr', value=nevm_upr['supply'].values)"
   ]
  },
  {
   "cell_type": "code",
   "execution_count": 18,
   "metadata": {},
   "outputs": [
    {
     "data": {
      "image/png": "[encoded data removed]",
      "text/plain": [
       "<Figure size 864x360 with 1 Axes>"
      ]
     },
     "metadata": {
      "needs_background": "light"
     },
     "output_type": "display_data"
    }
   ],
   "source": [
    "fig = plt.figure(figsize=(12,5))\n",
    "plt.plot(nevm_med['dates'].values, nevm_med['supply'].values, color='green', linestyle='dashed', label=\"y_pred\")\n",
    "plt.plot(pre_nevm['dates'].values, pre_nevm['supply'].values, color='blue', linestyle='dashed', label=\"y_pred\")\n",
    "plt.fill_between(nevm_df['dates'].values, nevm_df['supply_lwr'].values, nevm_df['supply_upr'].values, alpha=0.7, color='lightblue')\n",
    "plt.title(\"Syscoin Supply (uses ETH Daily TX Fees)\", fontsize=20)\n",
    "plt.ylabel(\"Supply\", fontsize=14)\n",
    "plt.xlabel(\"Date\", fontsize=14)\n",
    "fig.savefig('sys_notebooks/img/syscoin_daily_supply.png')\n"
   ]
  },
  {
   "cell_type": "markdown",
   "metadata": {},
   "source": [
    "### NEVM Supply Predictions"
   ]
  },
  {
   "cell_type": "code",
   "execution_count": 19,
   "metadata": {},
   "outputs": [],
   "source": [
    "import statsmodels.api as sm\n",
    "\n",
    "N = 12*365\n",
    "\n",
    "from statsmodels.stats.outliers_influence import summary_table\n",
    "from statsmodels.sandbox.regression.predstd import wls_prediction_std\n",
    "import numpy as np\n",
    "import random\n",
    "\n",
    "y = np.log(tx_fee['tx_fee'].values[100:])\n",
    "x = np.log(np.array(range(1,len(y)+1)))\n",
    "\n",
    "X = sm.add_constant(x)\n",
    "regr = sm.OLS(y, X)\n",
    "fit = regr.fit()\n",
    "y_hat = fit.fittedvalues\n",
    "prstd, y_hat_lwr, y_hat_upr = wls_prediction_std(fit)\n",
    "\n",
    "st, data, ss2 = summary_table(fit, alpha=0.05)\n",
    "\n",
    "x_new = np.log(np.array(range(2439,2439+N)))\n",
    "X_p = sm.add_constant(x_new)\n",
    "pred = fit.get_prediction(X_p)\n",
    "\n",
    "y_pred = pred.predicted_mean\n",
    "y_pred_lwr = y_pred - 1.96*prstd[0]\n",
    "y_pred_upr = y_pred + 1.96*prstd[0]"
   ]
  },
  {
   "cell_type": "code",
   "execution_count": 20,
   "metadata": {},
   "outputs": [],
   "source": [
    "mc_sim = [np.random.normal(y_pred[k], prstd[0],100) for k in range(0,len(y_pred))]\n",
    "mc_sim_med = [np.median(mc_sim[k]) for k in range(0,len(y_pred))]\n",
    "mc_sim_lwr = [np.quantile(mc_sim[k],0.05) for k in range(0,len(y_pred))]\n",
    "mc_sim_upr = [np.quantile(mc_sim[k],0.95) for k in range(0,len(y_pred))]"
   ]
  },
  {
   "cell_type": "code",
   "execution_count": 21,
   "metadata": {},
   "outputs": [],
   "source": [
    "sim = mc_sim[0]\n",
    "for k in range(1,len(y_pred)):\n",
    "    sim = np.vstack((sim, mc_sim[k]))"
   ]
  },
  {
   "cell_type": "code",
   "execution_count": 22,
   "metadata": {},
   "outputs": [],
   "source": [
    "dates = [getDate(t) for t in range(0,2439)]\n",
    "dates_pred = [getDate(t) for t in range(2440,2440+N)]"
   ]
  },
  {
   "cell_type": "code",
   "execution_count": 23,
   "metadata": {},
   "outputs": [
    {
     "data": {
      "image/png": "[encoded data removed]",
      "text/plain": [
       "<Figure size 864x360 with 1 Axes>"
      ]
     },
     "metadata": {
      "needs_background": "light"
     },
     "output_type": "display_data"
    }
   ],
   "source": [
    "x = np.array(range(1,len(y)+1))\n",
    "x_pred = np.array(range(2440,2440+N))\n",
    "\n",
    "fig = plt.figure(figsize=(12,5))\n",
    "ax = fig.gca()\n",
    "plt.plot(dates, y, label=\"Raw (y)\")\n",
    "plt.plot(dates, y_hat, color='blue', label=\"y_hat\")\n",
    "plt.fill_between(dates, y_hat_lwr, y_hat_upr, alpha=0.3, color='lightblue')\n",
    "\n",
    "plt.plot(dates_pred, y_pred, color='purple', linestyle='dashed', label=\"y_pred\")\n",
    "plt.fill_between(dates_pred, y_pred_lwr, y_pred_upr, alpha=0.3, color='lightblue')\n",
    "plt.title(\"Daily TX Fee in Ether\", fontsize=20)\n",
    "plt.xlabel(\"Date\", fontsize=14)\n",
    "plt.ylabel(\"Log(ETH)\", fontsize=14)\n",
    "plt.ylim(-1,12)\n",
    "plt.legend();\n",
    "fig.savefig('sys_notebooks/img/eth_daily_tx_fee.png')"
   ]
  },
  {
   "cell_type": "code",
   "execution_count": 24,
   "metadata": {},
   "outputs": [
    {
     "data": {
      "image/png": "[encoded data removed]",
      "text/plain": [
       "<Figure size 864x360 with 1 Axes>"
      ]
     },
     "metadata": {
      "needs_background": "light"
     },
     "output_type": "display_data"
    }
   ],
   "source": [
    "x = np.array(range(1,len(y)+1))\n",
    "x_pred = np.array(range(2061,2061+N))\n",
    "\n",
    "fig = plt.figure(figsize=(12,5))\n",
    "plt.plot(dates, np.exp(y), label=\"Raw (y)\")\n",
    "plt.plot(dates, np.exp(y_hat), color='blue', label=\"y_hat\")\n",
    "plt.fill_between(dates, np.exp(y_hat_lwr), np.exp(y_hat_upr), alpha=0.3, color='lightblue')\n",
    "\n",
    "plt.title(\"Daily TX Fee in Ether\", fontsize=20)\n",
    "fig.savefig('sys_notebooks/img/eth_daily_tx_fee2.png')\n",
    "plt.legend();"
   ]
  },
  {
   "cell_type": "code",
   "execution_count": 25,
   "metadata": {},
   "outputs": [],
   "source": [
    "dates_ = np.append(dates, dates_pred[1:])\n",
    "y_hat_ = np.append(y_hat, y_pred[1:])\n",
    "y_hat_lwr_ = np.append(y_hat_lwr, y_pred_lwr[1:])\n",
    "y_pred_upr_ = np.append(y_hat_upr, y_pred_upr[1:])\n",
    "\n",
    "est_df = pd.DataFrame({'dates':dates_,\n",
    "                        'pred':np.cumsum(np.exp(y_hat_)),\n",
    "                        'pred_lwr':np.cumsum(np.exp(y_hat_lwr_)),\n",
    "                        'pred_upr':np.cumsum(np.exp(y_pred_upr_))})\n",
    "\n",
    "est_df = est_df.iloc[0:len(nevm_df)]"
   ]
  },
  {
   "cell_type": "code",
   "execution_count": 26,
   "metadata": {},
   "outputs": [
    {
     "data": {
      "text/plain": [
       "array([6.25570350e+08, 6.25654122e+08, 6.25737894e+08, ...,\n",
       "       8.93607008e+08, 8.93652275e+08, 8.93697542e+08])"
      ]
     },
     "execution_count": 26,
     "metadata": {},
     "output_type": "execute_result"
    }
   ],
   "source": [
    "nevm_df['supply_upr'].values"
   ]
  },
  {
   "cell_type": "code",
   "execution_count": 27,
   "metadata": {},
   "outputs": [
    {
     "data": {
      "text/plain": [
       "Text(0.5, 24.0, 'Date')"
      ]
     },
     "execution_count": 27,
     "metadata": {},
     "output_type": "execute_result"
    },
    {
     "data": {
      "image/png": "[encoded data removed]",
      "text/plain": [
       "<Figure size 864x360 with 1 Axes>"
      ]
     },
     "metadata": {
      "needs_background": "light"
     },
     "output_type": "display_data"
    }
   ],
   "source": [
    "addition_supply = 100000000\n",
    "\n",
    "coin_supply_upr = addition_supply + nevm_df['supply_upr'].values - est_df['pred_lwr'].values\n",
    "coin_supply_lwr = addition_supply + nevm_df['supply_lwr'].values - est_df['pred_upr'].values\n",
    "\n",
    "\n",
    "sys_dates = nevm_med['dates'].values\n",
    "sys_supply =  addition_supply+nevm_med['supply'].values\n",
    "\n",
    "fig = plt.figure(figsize=(12,5))\n",
    "plt.plot(sys_dates, sys_supply, color='green', linestyle='dashed', label=\"y_pred\")\n",
    "plt.fill_between(nevm_med['dates'].values, coin_supply_lwr, coin_supply_upr, alpha=0.3, color='lightblue')\n",
    "plt.title(\"Syscoin Supply (uses ETH Daily TX Fees)\", fontsize=20)\n",
    "fig.savefig('sys_notebooks/img/syscoin_daily_supply_proj.png')\n",
    "plt.ylabel(\"SYS Supply\", fontsize=14)\n",
    "plt.xlabel(\"Date\", fontsize=14)"
   ]
  },
  {
   "cell_type": "code",
   "execution_count": 28,
   "metadata": {},
   "outputs": [
    {
     "ename": "FileNotFoundError",
     "evalue": "[Errno 2] No such file or directory: '../img/syscoin_daily_supply_proj2.png'",
     "output_type": "error",
     "traceback": [
      "\u001b[0;31m---------------------------------------------------------------------------\u001b[0m",
      "\u001b[0;31mFileNotFoundError\u001b[0m                         Traceback (most recent call last)",
      "\u001b[0;32m/var/folders/97/wcmz4r710pj20v_3cnvl09cm0000gn/T/ipykernel_38822/3846611167.py\u001b[0m in \u001b[0;36m<module>\u001b[0;34m\u001b[0m\n\u001b[1;32m      7\u001b[0m \u001b[0mplt\u001b[0m\u001b[0;34m.\u001b[0m\u001b[0mfill_between\u001b[0m\u001b[0;34m(\u001b[0m\u001b[0mnevm_med\u001b[0m\u001b[0;34m[\u001b[0m\u001b[0;34m'dates'\u001b[0m\u001b[0;34m]\u001b[0m\u001b[0;34m.\u001b[0m\u001b[0mvalues\u001b[0m\u001b[0;34m,\u001b[0m \u001b[0mcoin_supply_lwr\u001b[0m\u001b[0;34m,\u001b[0m \u001b[0mcoin_supply_upr\u001b[0m\u001b[0;34m,\u001b[0m \u001b[0malpha\u001b[0m\u001b[0;34m=\u001b[0m\u001b[0;36m0.3\u001b[0m\u001b[0;34m,\u001b[0m \u001b[0mcolor\u001b[0m\u001b[0;34m=\u001b[0m\u001b[0;34m'lightblue'\u001b[0m\u001b[0;34m)\u001b[0m\u001b[0;34m\u001b[0m\u001b[0;34m\u001b[0m\u001b[0m\n\u001b[1;32m      8\u001b[0m \u001b[0mplt\u001b[0m\u001b[0;34m.\u001b[0m\u001b[0mtitle\u001b[0m\u001b[0;34m(\u001b[0m\u001b[0;34m\"Syscoin Supply (uses ETH Daily TX Fees)\"\u001b[0m\u001b[0;34m,\u001b[0m \u001b[0mfontsize\u001b[0m\u001b[0;34m=\u001b[0m\u001b[0;36m20\u001b[0m\u001b[0;34m)\u001b[0m\u001b[0;34m\u001b[0m\u001b[0;34m\u001b[0m\u001b[0m\n\u001b[0;32m----> 9\u001b[0;31m \u001b[0mfig\u001b[0m\u001b[0;34m.\u001b[0m\u001b[0msavefig\u001b[0m\u001b[0;34m(\u001b[0m\u001b[0;34m'../img/syscoin_daily_supply_proj2.png'\u001b[0m\u001b[0;34m)\u001b[0m\u001b[0;34m\u001b[0m\u001b[0;34m\u001b[0m\u001b[0m\n\u001b[0m\u001b[1;32m     10\u001b[0m \u001b[0mplt\u001b[0m\u001b[0;34m.\u001b[0m\u001b[0mylabel\u001b[0m\u001b[0;34m(\u001b[0m\u001b[0;34m\"SYS Supply\"\u001b[0m\u001b[0;34m,\u001b[0m \u001b[0mfontsize\u001b[0m\u001b[0;34m=\u001b[0m\u001b[0;36m14\u001b[0m\u001b[0;34m)\u001b[0m\u001b[0;34m\u001b[0m\u001b[0;34m\u001b[0m\u001b[0m\n\u001b[1;32m     11\u001b[0m \u001b[0mplt\u001b[0m\u001b[0;34m.\u001b[0m\u001b[0mxlabel\u001b[0m\u001b[0;34m(\u001b[0m\u001b[0;34m\"Date\"\u001b[0m\u001b[0;34m,\u001b[0m \u001b[0mfontsize\u001b[0m\u001b[0;34m=\u001b[0m\u001b[0;36m14\u001b[0m\u001b[0;34m)\u001b[0m\u001b[0;34m\u001b[0m\u001b[0;34m\u001b[0m\u001b[0m\n",
      "\u001b[0;32m/opt/homebrew/anaconda3/lib/python3.9/site-packages/matplotlib/figure.py\u001b[0m in \u001b[0;36msavefig\u001b[0;34m(self, fname, transparent, **kwargs)\u001b[0m\n\u001b[1;32m   3013\u001b[0m                 \u001b[0mpatch\u001b[0m\u001b[0;34m.\u001b[0m\u001b[0mset_edgecolor\u001b[0m\u001b[0;34m(\u001b[0m\u001b[0;34m'none'\u001b[0m\u001b[0;34m)\u001b[0m\u001b[0;34m\u001b[0m\u001b[0;34m\u001b[0m\u001b[0m\n\u001b[1;32m   3014\u001b[0m \u001b[0;34m\u001b[0m\u001b[0m\n\u001b[0;32m-> 3015\u001b[0;31m         \u001b[0mself\u001b[0m\u001b[0;34m.\u001b[0m\u001b[0mcanvas\u001b[0m\u001b[0;34m.\u001b[0m\u001b[0mprint_figure\u001b[0m\u001b[0;34m(\u001b[0m\u001b[0mfname\u001b[0m\u001b[0;34m,\u001b[0m \u001b[0;34m**\u001b[0m\u001b[0mkwargs\u001b[0m\u001b[0;34m)\u001b[0m\u001b[0;34m\u001b[0m\u001b[0;34m\u001b[0m\u001b[0m\n\u001b[0m\u001b[1;32m   3016\u001b[0m \u001b[0;34m\u001b[0m\u001b[0m\n\u001b[1;32m   3017\u001b[0m         \u001b[0;32mif\u001b[0m \u001b[0mtransparent\u001b[0m\u001b[0;34m:\u001b[0m\u001b[0;34m\u001b[0m\u001b[0;34m\u001b[0m\u001b[0m\n",
      "\u001b[0;32m/opt/homebrew/anaconda3/lib/python3.9/site-packages/matplotlib/backend_bases.py\u001b[0m in \u001b[0;36mprint_figure\u001b[0;34m(self, filename, dpi, facecolor, edgecolor, orientation, format, bbox_inches, pad_inches, bbox_extra_artists, backend, **kwargs)\u001b[0m\n\u001b[1;32m   2253\u001b[0m                 \u001b[0;31m# force the figure dpi to 72), so we need to set it again here.\u001b[0m\u001b[0;34m\u001b[0m\u001b[0;34m\u001b[0m\u001b[0m\n\u001b[1;32m   2254\u001b[0m                 \u001b[0;32mwith\u001b[0m \u001b[0mcbook\u001b[0m\u001b[0;34m.\u001b[0m\u001b[0m_setattr_cm\u001b[0m\u001b[0;34m(\u001b[0m\u001b[0mself\u001b[0m\u001b[0;34m.\u001b[0m\u001b[0mfigure\u001b[0m\u001b[0;34m,\u001b[0m \u001b[0mdpi\u001b[0m\u001b[0;34m=\u001b[0m\u001b[0mdpi\u001b[0m\u001b[0;34m)\u001b[0m\u001b[0;34m:\u001b[0m\u001b[0;34m\u001b[0m\u001b[0;34m\u001b[0m\u001b[0m\n\u001b[0;32m-> 2255\u001b[0;31m                     result = print_method(\n\u001b[0m\u001b[1;32m   2256\u001b[0m                         \u001b[0mfilename\u001b[0m\u001b[0;34m,\u001b[0m\u001b[0;34m\u001b[0m\u001b[0;34m\u001b[0m\u001b[0m\n\u001b[1;32m   2257\u001b[0m                         \u001b[0mfacecolor\u001b[0m\u001b[0;34m=\u001b[0m\u001b[0mfacecolor\u001b[0m\u001b[0;34m,\u001b[0m\u001b[0;34m\u001b[0m\u001b[0;34m\u001b[0m\u001b[0m\n",
      "\u001b[0;32m/opt/homebrew/anaconda3/lib/python3.9/site-packages/matplotlib/backend_bases.py\u001b[0m in \u001b[0;36mwrapper\u001b[0;34m(*args, **kwargs)\u001b[0m\n\u001b[1;32m   1667\u001b[0m             \u001b[0mkwargs\u001b[0m\u001b[0;34m.\u001b[0m\u001b[0mpop\u001b[0m\u001b[0;34m(\u001b[0m\u001b[0marg\u001b[0m\u001b[0;34m)\u001b[0m\u001b[0;34m\u001b[0m\u001b[0;34m\u001b[0m\u001b[0m\n\u001b[1;32m   1668\u001b[0m \u001b[0;34m\u001b[0m\u001b[0m\n\u001b[0;32m-> 1669\u001b[0;31m         \u001b[0;32mreturn\u001b[0m \u001b[0mfunc\u001b[0m\u001b[0;34m(\u001b[0m\u001b[0;34m*\u001b[0m\u001b[0margs\u001b[0m\u001b[0;34m,\u001b[0m \u001b[0;34m**\u001b[0m\u001b[0mkwargs\u001b[0m\u001b[0;34m)\u001b[0m\u001b[0;34m\u001b[0m\u001b[0;34m\u001b[0m\u001b[0m\n\u001b[0m\u001b[1;32m   1670\u001b[0m \u001b[0;34m\u001b[0m\u001b[0m\n\u001b[1;32m   1671\u001b[0m     \u001b[0;32mreturn\u001b[0m \u001b[0mwrapper\u001b[0m\u001b[0;34m\u001b[0m\u001b[0;34m\u001b[0m\u001b[0m\n",
      "\u001b[0;32m/opt/homebrew/anaconda3/lib/python3.9/site-packages/matplotlib/backends/backend_agg.py\u001b[0m in \u001b[0;36mprint_png\u001b[0;34m(self, filename_or_obj, metadata, pil_kwargs, *args)\u001b[0m\n\u001b[1;32m    507\u001b[0m         \"\"\"\n\u001b[1;32m    508\u001b[0m         \u001b[0mFigureCanvasAgg\u001b[0m\u001b[0;34m.\u001b[0m\u001b[0mdraw\u001b[0m\u001b[0;34m(\u001b[0m\u001b[0mself\u001b[0m\u001b[0;34m)\u001b[0m\u001b[0;34m\u001b[0m\u001b[0;34m\u001b[0m\u001b[0m\n\u001b[0;32m--> 509\u001b[0;31m         mpl.image.imsave(\n\u001b[0m\u001b[1;32m    510\u001b[0m             \u001b[0mfilename_or_obj\u001b[0m\u001b[0;34m,\u001b[0m \u001b[0mself\u001b[0m\u001b[0;34m.\u001b[0m\u001b[0mbuffer_rgba\u001b[0m\u001b[0;34m(\u001b[0m\u001b[0;34m)\u001b[0m\u001b[0;34m,\u001b[0m \u001b[0mformat\u001b[0m\u001b[0;34m=\u001b[0m\u001b[0;34m\"png\"\u001b[0m\u001b[0;34m,\u001b[0m \u001b[0morigin\u001b[0m\u001b[0;34m=\u001b[0m\u001b[0;34m\"upper\"\u001b[0m\u001b[0;34m,\u001b[0m\u001b[0;34m\u001b[0m\u001b[0;34m\u001b[0m\u001b[0m\n\u001b[1;32m    511\u001b[0m             dpi=self.figure.dpi, metadata=metadata, pil_kwargs=pil_kwargs)\n",
      "\u001b[0;32m/opt/homebrew/anaconda3/lib/python3.9/site-packages/matplotlib/image.py\u001b[0m in \u001b[0;36mimsave\u001b[0;34m(fname, arr, vmin, vmax, cmap, format, origin, dpi, metadata, pil_kwargs)\u001b[0m\n\u001b[1;32m   1614\u001b[0m         \u001b[0mpil_kwargs\u001b[0m\u001b[0;34m.\u001b[0m\u001b[0msetdefault\u001b[0m\u001b[0;34m(\u001b[0m\u001b[0;34m\"format\"\u001b[0m\u001b[0;34m,\u001b[0m \u001b[0mformat\u001b[0m\u001b[0;34m)\u001b[0m\u001b[0;34m\u001b[0m\u001b[0;34m\u001b[0m\u001b[0m\n\u001b[1;32m   1615\u001b[0m         \u001b[0mpil_kwargs\u001b[0m\u001b[0;34m.\u001b[0m\u001b[0msetdefault\u001b[0m\u001b[0;34m(\u001b[0m\u001b[0;34m\"dpi\"\u001b[0m\u001b[0;34m,\u001b[0m \u001b[0;34m(\u001b[0m\u001b[0mdpi\u001b[0m\u001b[0;34m,\u001b[0m \u001b[0mdpi\u001b[0m\u001b[0;34m)\u001b[0m\u001b[0;34m)\u001b[0m\u001b[0;34m\u001b[0m\u001b[0;34m\u001b[0m\u001b[0m\n\u001b[0;32m-> 1616\u001b[0;31m         \u001b[0mimage\u001b[0m\u001b[0;34m.\u001b[0m\u001b[0msave\u001b[0m\u001b[0;34m(\u001b[0m\u001b[0mfname\u001b[0m\u001b[0;34m,\u001b[0m \u001b[0;34m**\u001b[0m\u001b[0mpil_kwargs\u001b[0m\u001b[0;34m)\u001b[0m\u001b[0;34m\u001b[0m\u001b[0;34m\u001b[0m\u001b[0m\n\u001b[0m\u001b[1;32m   1617\u001b[0m \u001b[0;34m\u001b[0m\u001b[0m\n\u001b[1;32m   1618\u001b[0m \u001b[0;34m\u001b[0m\u001b[0m\n",
      "\u001b[0;32m/opt/homebrew/anaconda3/lib/python3.9/site-packages/PIL/Image.py\u001b[0m in \u001b[0;36msave\u001b[0;34m(self, fp, format, **params)\u001b[0m\n\u001b[1;32m   2235\u001b[0m                 \u001b[0mfp\u001b[0m \u001b[0;34m=\u001b[0m \u001b[0mbuiltins\u001b[0m\u001b[0;34m.\u001b[0m\u001b[0mopen\u001b[0m\u001b[0;34m(\u001b[0m\u001b[0mfilename\u001b[0m\u001b[0;34m,\u001b[0m \u001b[0;34m\"r+b\"\u001b[0m\u001b[0;34m)\u001b[0m\u001b[0;34m\u001b[0m\u001b[0;34m\u001b[0m\u001b[0m\n\u001b[1;32m   2236\u001b[0m             \u001b[0;32melse\u001b[0m\u001b[0;34m:\u001b[0m\u001b[0;34m\u001b[0m\u001b[0;34m\u001b[0m\u001b[0m\n\u001b[0;32m-> 2237\u001b[0;31m                 \u001b[0mfp\u001b[0m \u001b[0;34m=\u001b[0m \u001b[0mbuiltins\u001b[0m\u001b[0;34m.\u001b[0m\u001b[0mopen\u001b[0m\u001b[0;34m(\u001b[0m\u001b[0mfilename\u001b[0m\u001b[0;34m,\u001b[0m \u001b[0;34m\"w+b\"\u001b[0m\u001b[0;34m)\u001b[0m\u001b[0;34m\u001b[0m\u001b[0;34m\u001b[0m\u001b[0m\n\u001b[0m\u001b[1;32m   2238\u001b[0m \u001b[0;34m\u001b[0m\u001b[0m\n\u001b[1;32m   2239\u001b[0m         \u001b[0;32mtry\u001b[0m\u001b[0;34m:\u001b[0m\u001b[0;34m\u001b[0m\u001b[0;34m\u001b[0m\u001b[0m\n",
      "\u001b[0;31mFileNotFoundError\u001b[0m: [Errno 2] No such file or directory: '../img/syscoin_daily_supply_proj2.png'"
     ]
    },
    {
     "data": {
      "image/png": "[encoded data removed]",
      "text/plain": [
       "<Figure size 864x360 with 1 Axes>"
      ]
     },
     "metadata": {
      "needs_background": "light"
     },
     "output_type": "display_data"
    }
   ],
   "source": [
    "coin_supply_upr = nevm_df['supply_upr'].values - est_df['pred_lwr'].values\n",
    "coin_supply_lwr = nevm_df['supply_lwr'].values - est_df['pred_upr'].values\n",
    "\n",
    "fig = plt.figure(figsize=(12,5))\n",
    "plt.plot(nevm_med['dates'].values, nevm_med['supply'].values, color='green', linestyle='dashed', label=\"y_pred\")\n",
    "plt.plot(pre_nevm['dates'].values, pre_nevm['supply'].values, color='blue', linestyle='dashed', label=\"y_pred\")\n",
    "plt.fill_between(nevm_med['dates'].values, coin_supply_lwr, coin_supply_upr, alpha=0.3, color='lightblue')\n",
    "plt.title(\"Syscoin Supply (uses ETH Daily TX Fees)\", fontsize=20)\n",
    "fig.savefig('sys_notebooks/img/syscoin_daily_supply_proj2.png')\n",
    "plt.ylabel(\"SYS Supply\", fontsize=14)\n",
    "plt.xlabel(\"Date\", fontsize=14)"
   ]
  },
  {
   "cell_type": "code",
   "execution_count": null,
   "metadata": {},
   "outputs": [],
   "source": [
    "pred_df = pd.DataFrame({'dates': nevm_med['dates'].values,\n",
    "                        'pred':addition_supply + nevm_med['supply'].values,\n",
    "                        'pred_lwr':addition_supply + coin_supply_lwr,\n",
    "                        'pred_upr':addition_supply + coin_supply_upr})"
   ]
  },
  {
   "cell_type": "code",
   "execution_count": null,
   "metadata": {},
   "outputs": [],
   "source": [
    "mo = pd.to_datetime(pred_df['dates'].values).month\n",
    "da = pd.to_datetime(pred_df['dates'].values).day\n",
    "\n",
    "indices = []\n",
    "m = 0\n",
    "for k in range(0,len(pred_df)):\n",
    "    if((mo[k] == 1) & (da[k] == 1)): indices.append(k)\n",
    "    \n",
    "pred_df.iloc[indices]"
   ]
  },
  {
   "cell_type": "markdown",
   "metadata": {},
   "source": [
    "### Price simulations"
   ]
  },
  {
   "cell_type": "code",
   "execution_count": null,
   "metadata": {},
   "outputs": [],
   "source": [
    "N = 5*365 + 27\n",
    "LWR_SYS_PRICE = 0.25\n",
    "UPR_SYS_PRICE = 25\n",
    "\n",
    "price_sim = gen_prices(N, LWR_SYS_PRICE, UPR_SYS_PRICE).reshape(-1,1)\n",
    "for k in range(1,50):\n",
    "    sim = gen_prices(N, LWR_SYS_PRICE, UPR_SYS_PRICE).reshape(-1,1)\n",
    "    price_sim = np.hstack((price_sim,sim))"
   ]
  },
  {
   "cell_type": "code",
   "execution_count": null,
   "metadata": {},
   "outputs": [],
   "source": [
    "start = datetime.datetime(2021, 12, 6, 0, 0, 0)\n",
    "date_times = np.array([start + datetime.timedelta(days=i) for i in range(N)])    \n",
    "    \n",
    "fig = plt.figure(figsize=(12, 5))\n",
    "ax = fig.gca()\n",
    "plot_gp_dist(ax, price_sim.transpose(), date_times, palette=\"YlOrRd\")\n",
    "plt.ylabel(\"Price (USD)\", fontsize=14)\n",
    "plt.xlabel(\"Date\", fontsize=14)\n",
    "plt.title(\"Price Simulations\", fontsize=20)\n",
    "fig.savefig('sys_notebooks/img/price_simulations.png')"
   ]
  },
  {
   "cell_type": "markdown",
   "metadata": {},
   "source": [
    "### Rewards simulations"
   ]
  },
  {
   "cell_type": "code",
   "execution_count": null,
   "metadata": {},
   "outputs": [],
   "source": [
    "nevm_df_final = copy.copy(nevm_df)\n",
    "nevm_df_final = nevm_df_final.assign(supply=100000000+nevm_med['supply'].values)\n",
    "nevm_df_final = nevm_df_final.assign(supply_lwr=100000000+coin_supply_lwr)\n",
    "nevm_df_final = nevm_df_final.assign(supply_upr=100000000+coin_supply_upr)\n",
    "nevm_df_final = nevm_df_final.assign(m_nodes = n_masternodes(100000000+nevm_med['supply'].values, share = MASTERNODE_SUPPLY_SHARE))\n",
    "nevm_df_final = nevm_df_final.assign(daily_rewards_mu = nevm_med['daily_rewards'].values)\n",
    "nevm_df_final = nevm_df_final.assign(blk_reward=nevm_med['blk_reward'].values)\n",
    "nevm_df_final = nevm_df_final.assign(nevm_rewards=nevm_med['nevm_rewards'].values)\n",
    "nevm_df_final = nevm_df_final.assign(pow_rewards=nevm_med['pow_rewards'].values)\n",
    "nevm_df_final = nevm_df_final.assign(daily_rewards=nevm_med['daily_rewards'].values)\n",
    "nevm_df_final = nevm_df_final[nevm_df_final['yr'].values > 2022]\n",
    "nevm_df_final = nevm_df_final[nevm_df_final['yr'].values < 2028]"
   ]
  },
  {
   "cell_type": "code",
   "execution_count": null,
   "metadata": {},
   "outputs": [],
   "source": [
    "pred_dates = nevm_df_final['dates'].values\n",
    "daily_rewards_lwr = nevm_df_final['daily_rewards_lwr'].values\n",
    "daily_rewards_mu = nevm_df_final['daily_rewards_mu'].values\n",
    "daily_rewards_upr = nevm_df_final['daily_rewards_lwr'].values"
   ]
  },
  {
   "cell_type": "code",
   "execution_count": null,
   "metadata": {},
   "outputs": [],
   "source": [
    "N = len(nevm_df_final)\n",
    "price_sim = gen_prices(N, LWR_SYS_PRICE, UPR_SYS_PRICE)\n",
    "prices_sim = price_sim.reshape(-1,1)\n",
    "reward_sim = price_sim*daily_rewards_mu[0:N]\n",
    "reward_sim = reward_sim.reshape(-1,1)\n",
    "for k in range(1,50):\n",
    "    price_sim = gen_prices(N, LWR_SYS_PRICE, UPR_SYS_PRICE)\n",
    "    prices_sim = np.hstack((prices_sim,price_sim.reshape(-1,1)))\n",
    "    sim_med = price_sim*daily_rewards_mu[0:N]  \n",
    "    sim_med = sim_med.reshape(-1,1)\n",
    "    reward_sim = np.hstack((reward_sim,sim_med))"
   ]
  },
  {
   "cell_type": "code",
   "execution_count": null,
   "metadata": {},
   "outputs": [],
   "source": [
    "start = datetime.datetime(2023, 1, 1, 0, 0, 0)\n",
    "date_times = np.array([start + datetime.timedelta(days=i) for i in range(N)])    \n",
    "    \n",
    "fig = plt.figure(figsize=(12, 5))\n",
    "ax = fig.gca()\n",
    "plot_gp_dist(ax, reward_sim.transpose(), date_times, palette=\"YlOrRd\")\n",
    "plt.ylabel(\"Price (USD)\", fontsize=14)\n",
    "plt.xlabel(\"Date\", fontsize=14)\n",
    "plt.title(\"Daily Reward Simulations\", fontsize=20)\n",
    "fig.savefig('sys_notebooks/img/reward_simulations.png')"
   ]
  },
  {
   "cell_type": "code",
   "execution_count": null,
   "metadata": {},
   "outputs": [],
   "source": [
    "reward_mu = [np.quantile(reward_sim[0], 0.5)]\n",
    "reward_lwr = [np.quantile(reward_sim[0], 0.05)]\n",
    "reward_upr = [np.quantile(reward_sim[0], 0.95)]\n",
    "\n",
    "price_mu = [np.quantile(prices_sim[0], 0.5)]\n",
    "price_lwr = [np.quantile(prices_sim[0], 0.05)]\n",
    "price_upr = [np.quantile(prices_sim[0], 0.95)]\n",
    "\n",
    "for day in range(1,N):\n",
    "    reward_mu.append(np.quantile(reward_sim[day], 0.5))\n",
    "    reward_lwr.append(np.quantile(reward_sim[day], 0.05))\n",
    "    reward_upr.append(np.quantile(reward_sim[day], 0.95))\n",
    "    \n",
    "    price_mu.append(np.quantile(prices_sim[day], 0.5))\n",
    "    price_lwr.append(np.quantile(prices_sim[day], 0.05))\n",
    "    price_upr.append(np.quantile(prices_sim[day], 0.95))    "
   ]
  },
  {
   "cell_type": "code",
   "execution_count": null,
   "metadata": {},
   "outputs": [],
   "source": [
    "fig = plt.figure(figsize=(16, 6))\n",
    "ax = fig.gca()\n",
    "plt.plot(date_times, price_mu, color='green', linestyle='dashed', label=\"y_pred\")\n",
    "plt.fill_between(date_times, price_lwr, price_upr, alpha=0.3, color='lightblue')\n",
    "plt.ylabel(\"Price (USD)\", fontsize=14)\n",
    "plt.xlabel(\"Date\", fontsize=14)\n",
    "plt.title(\"Daily Prices Simulations\", fontsize=20)\n",
    "fig.savefig('sys_notebooks/img/reward_simulations.png')"
   ]
  },
  {
   "cell_type": "code",
   "execution_count": null,
   "metadata": {},
   "outputs": [],
   "source": [
    "fig, (s_ax, r_ax) = plt.subplots(nrows=2, sharex=True, sharey=False, figsize=(18, 15))\n",
    "\n",
    "sys_supply =  nevm_df_final['supply'].values \n",
    "sys_supply_lwr =  nevm_df_final['supply_lwr'].values \n",
    "sys_supply_upr =  nevm_df_final['supply_upr'].values \n",
    "\n",
    "s_ax.plot(date_times, sys_supply, color='green', linestyle='dashed', label=\"y_pred\")\n",
    "s_ax.fill_between(date_times, sys_supply_lwr, sys_supply_upr, alpha=0.3, color='lightblue')\n",
    "s_ax.set_title(\"Syscoin Supply (uses ETH Daily TX Fees)\", fontsize=25)\n",
    "s_ax.set_ylabel(\"SYS Supply\", fontsize=20)\n",
    "s_ax.set_xlabel(\"Date\", fontsize=20)\n",
    "\n",
    "r_ax.fill_between(date_times, reward_lwr, reward_upr, alpha=0.3, color='lightblue')\n",
    "r_ax.plot(date_times, reward_mu, color='green', linestyle='dashed', label=\"y_pred\")\n",
    "r_ax.set_ylabel(\"Daily Rewards (USD)\", fontsize=20)\n",
    "r_ax.set_xlabel(\"Date\", fontsize=20)\n",
    "r_ax.set_title(\"Masternode Daily Reward Simulations\", fontsize=25)\n",
    "fig.savefig('sys_notebooks/img/supply_mn_reward_simulations.png')\n"
   ]
  },
  {
   "cell_type": "code",
   "execution_count": null,
   "metadata": {},
   "outputs": [],
   "source": [
    "dat = {\n",
    "    'date' : date_times,\n",
    "    'year' : [date_times[k].year for k in range(N)],\n",
    "    'month' : [date_times[k].month for k in range(N)],    \n",
    "    'nsys' : sys_supply,\n",
    "    'nsys_lwr' : sys_supply_lwr,\n",
    "    'nsys_upr' : sys_supply_upr,\n",
    "    'price' : price_mu,\n",
    "    'price_lwr' : price_lwr,\n",
    "    'price_upr' : price_upr,    \n",
    "    'reward' : reward_mu,\n",
    "    'reward_lwr' : reward_lwr,\n",
    "    'reward_upr' : reward_upr,\n",
    "    'num_m_nodes' : nevm_df_final['m_nodes'].values[0:N]\n",
    "}\n",
    "  \n",
    "proj = pd.DataFrame(dat)\n",
    "proj = proj.set_index('date')"
   ]
  },
  {
   "cell_type": "code",
   "execution_count": null,
   "metadata": {},
   "outputs": [],
   "source": [
    "proj_system_aggr = pd.DataFrame(proj.groupby([(proj.index.year), (proj.index.month)])['nsys'].median())\n",
    "proj_system_aggr['nsys_lwr'] = proj.groupby([(proj.index.year), (proj.index.month)])['nsys_lwr'].median().values\n",
    "proj_system_aggr['nsys_upr'] = proj.groupby([(proj.index.year), (proj.index.month)])['nsys_upr'].median().values\n",
    "proj_system_aggr['reward'] = proj.groupby([(proj.index.year), (proj.index.month)])['reward'].sum().values\n",
    "proj_system_aggr['reward_lwr'] = proj.groupby([(proj.index.year), (proj.index.month)])['reward_lwr'].sum().values\n",
    "proj_system_aggr['reward_upr'] = proj.groupby([(proj.index.year), (proj.index.month)])['reward_upr'].sum().values\n",
    "proj_system_aggr['price'] = proj.groupby([(proj.index.year), (proj.index.month)])['price'].median().values\n",
    "proj_system_aggr['price_lwr'] = proj.groupby([(proj.index.year), (proj.index.month)])['price_lwr'].median().values\n",
    "proj_system_aggr['price_upr'] = proj.groupby([(proj.index.year), (proj.index.month)])['price_upr'].median().values\n",
    "proj_system_aggr['num_m_nodes'] = proj.groupby([(proj.index.year), (proj.index.month)])['num_m_nodes'].max().values"
   ]
  },
  {
   "cell_type": "code",
   "execution_count": null,
   "metadata": {},
   "outputs": [],
   "source": [
    "proj_system_aggr.index.names = ['year','month']\n",
    "proj_system_aggr.reset_index(level=['year', 'month'], inplace=True)\n",
    "proj_system_aggr.to_csv('sys_notebooks/resources/proj_system_aggr.csv')"
   ]
  },
  {
   "cell_type": "markdown",
   "metadata": {},
   "source": [
    "### Investment nodes"
   ]
  },
  {
   "cell_type": "code",
   "execution_count": null,
   "metadata": {},
   "outputs": [],
   "source": [
    "N_INVEST_MASTERNODES = 400\n",
    "\n",
    "nevm_df_invest = copy.copy(nevm_df_final[['dates','yr','mo','da']])\n",
    "nevm_df_invest = nevm_df_invest.assign(blk_invest=nevm_df_final['blk_reward_lwr'].values)\n",
    "nevm_df_invest = nevm_df_invest.assign(pow_invest_lwr=nevm_df_final['pow_rewards_lwr'].values)\n",
    "nevm_df_invest = nevm_df_invest.assign(pow_invest_upr=nevm_df_final['pow_rewards_upr'].values)\n",
    "nevm_df_invest = nevm_df_invest.assign(nevm_invest_lwr=nevm_df_final['nevm_rewards_lwr'].values)\n",
    "nevm_df_invest = nevm_df_invest.assign(nevm_invest_upr=nevm_df_final['nevm_rewards_upr'].values)\n",
    "nevm_df_invest = nevm_df_invest.assign(num_m_nodes = nevm_df_final['m_nodes'].values + N_INVEST_MASTERNODES)\n",
    "nevm_df_invest = nevm_df_invest.assign(blk_share = 1/nevm_df_invest['num_m_nodes'].values)"
   ]
  },
  {
   "cell_type": "code",
   "execution_count": null,
   "metadata": {},
   "outputs": [],
   "source": [
    "invest_eth_burn = copy.copy(est_df[391:(391+len(nevm_df_final))])"
   ]
  },
  {
   "cell_type": "markdown",
   "metadata": {},
   "source": [
    "#### Adjust for senority"
   ]
  },
  {
   "cell_type": "code",
   "execution_count": null,
   "metadata": {},
   "outputs": [],
   "source": [
    "seg = nevm_df_invest['yr'] > 2023\n",
    "nevm_df_invest.loc[seg, 'blk_invest'] = 1.35*nevm_df_invest.loc[seg, 'blk_invest']\n",
    "\n",
    "seg = np.array(range(0,len(nevm_df_invest))) > 911\n",
    "nevm_df_invest.loc[seg, 'blk_invest'] = 2*nevm_df_invest.loc[seg, 'blk_invest']\n",
    "\n",
    "nevm_df_invest.head(5)"
   ]
  },
  {
   "cell_type": "code",
   "execution_count": null,
   "metadata": {},
   "outputs": [],
   "source": [
    "nevm_df_invest.tail(5)"
   ]
  },
  {
   "cell_type": "code",
   "execution_count": null,
   "metadata": {},
   "outputs": [],
   "source": [
    "investment_share = N_INVEST_MASTERNODES*nevm_df_invest['blk_share'].values\n",
    "\n",
    "invest_supply_lwr = nevm_df_invest['blk_invest'].values + nevm_df_invest['pow_invest_lwr'].values + nevm_df_invest['nevm_invest_lwr'].values\n",
    "invest_supply_upr = nevm_df_invest['blk_invest'].values + nevm_df_invest['pow_invest_upr'].values + nevm_df_invest['nevm_invest_upr'].values\n",
    "invest_supply_lwr = NUM_DAILY_BLOCKS*investment_share*invest_supply_lwr\n",
    "invest_supply_upr = NUM_DAILY_BLOCKS*investment_share*invest_supply_upr\n",
    "\n",
    "invest_supply_med = (invest_supply_lwr + invest_supply_upr)/2\n",
    "\n",
    "nevm_df_invest = nevm_df_invest.assign(invest_supply_med = invest_supply_med)\n",
    "nevm_df_invest = nevm_df_invest.assign(invest_supply_lwr = invest_supply_lwr)\n",
    "nevm_df_invest = nevm_df_invest.assign(invest_supply_upr = invest_supply_upr)\n",
    "\n",
    "nevm_df_invest.head(5)"
   ]
  },
  {
   "cell_type": "code",
   "execution_count": null,
   "metadata": {},
   "outputs": [],
   "source": [
    "nevm_df_invest = nevm_df_invest.assign(price = price_mu)\n",
    "nevm_df_invest = nevm_df_invest.assign(price_lwr = price_lwr)\n",
    "nevm_df_invest = nevm_df_invest.assign(price_upr = price_upr)\n",
    "\n",
    "nevm_df_invest = nevm_df_invest.assign(rewards = price_mu*invest_supply_med)\n",
    "nevm_df_invest = nevm_df_invest.assign(rewards_lwr = price_lwr*invest_supply_med)\n",
    "nevm_df_invest = nevm_df_invest.assign(rewards_upr = price_upr*invest_supply_med)"
   ]
  },
  {
   "cell_type": "code",
   "execution_count": null,
   "metadata": {},
   "outputs": [],
   "source": [
    "fig, (s_ax, r_ax) = plt.subplots(nrows=2, sharex=True, sharey=False, figsize=(18, 15))\n",
    "\n",
    "sys_supply =  nevm_df_invest['invest_supply_med'].values \n",
    "sys_supply_lwr =  nevm_df_invest['invest_supply_lwr'].values \n",
    "sys_supply_upr =  nevm_df_invest['invest_supply_upr'].values \n",
    "\n",
    "sys_supply = np.cumsum(sys_supply)\n",
    "sys_supply_lwr = np.cumsum(sys_supply_lwr)\n",
    "sys_supply_upr = np.cumsum(sys_supply_upr)\n",
    "\n",
    "s_ax.plot(date_times, sys_supply, color='green', linestyle='dashed', label=\"y_pred\")\n",
    "s_ax.fill_between(date_times, sys_supply_lwr, sys_supply_upr, alpha=0.3, color='lightblue')\n",
    "s_ax.set_title(\"Syscoin Daily Intake (400 Masternodes)\", fontsize=25)\n",
    "s_ax.set_ylabel(\"Number of SYS\", fontsize=20)\n",
    "s_ax.set_xlabel(\"Date\", fontsize=20)\n",
    "\n",
    "reward_mu =  nevm_df_invest['rewards'].values \n",
    "reward_lwr =  nevm_df_invest['rewards_lwr'].values \n",
    "reward_upr =  nevm_df_invest['rewards_upr'].values \n",
    "\n",
    "r_ax.fill_between(date_times, reward_lwr, reward_upr, alpha=0.3, color='lightblue')\n",
    "r_ax.plot(date_times, reward_mu, color='green', linestyle='dashed', label=\"y_pred\")\n",
    "r_ax.set_ylabel(\"Daily Rewards (USD)\", fontsize=20)\n",
    "r_ax.set_xlabel(\"Date\", fontsize=20)\n",
    "r_ax.set_title(\"Masternode Daily Reward Simulations\", fontsize=25)\n",
    "fig.savefig('sys_notebooks/img/supply_mn_reward_output.png')"
   ]
  },
  {
   "cell_type": "code",
   "execution_count": null,
   "metadata": {},
   "outputs": [],
   "source": [
    "dat = {\n",
    "    'date' : nevm_df_invest['dates'].values,\n",
    "    'year' : nevm_df_invest['yr'].values,\n",
    "    'month' : nevm_df_invest['mo'].values,    \n",
    "    'nsys' : nevm_df_invest['invest_supply_med'].values,\n",
    "    'nsys_lwr' : nevm_df_invest['invest_supply_lwr'].values,\n",
    "    'nsys_upr' : nevm_df_invest['invest_supply_upr'].values,\n",
    "    'price' : nevm_df_invest['price'].values,\n",
    "    'price_lwr' : nevm_df_invest['price_lwr'].values,\n",
    "    'price_upr' : nevm_df_invest['price_upr'].values,    \n",
    "    'reward' : nevm_df_invest['rewards'].values,\n",
    "    'reward_lwr' : nevm_df_invest['rewards_lwr'].values,\n",
    "    'reward_upr' : nevm_df_invest['rewards_upr'].values,\n",
    "    'tot_nodes' : nevm_df_invest['num_m_nodes'].values,\n",
    "    'investment_nodes' : N_INVEST_MASTERNODES\n",
    "}\n",
    "  \n",
    "proj = pd.DataFrame(dat)\n",
    "proj = proj.set_index('date')"
   ]
  },
  {
   "cell_type": "code",
   "execution_count": null,
   "metadata": {},
   "outputs": [],
   "source": [
    "proj_invest_aggr = pd.DataFrame(proj.groupby([(proj.index.year), (proj.index.month)])['nsys'].median())\n",
    "proj_invest_aggr['nsys_lwr'] = proj.groupby([(proj.index.year), (proj.index.month)])['nsys_lwr'].median().values\n",
    "proj_invest_aggr['nsys_upr'] = proj.groupby([(proj.index.year), (proj.index.month)])['nsys_upr'].median().values\n",
    "proj_invest_aggr['reward'] = proj.groupby([(proj.index.year), (proj.index.month)])['reward'].sum().values\n",
    "proj_invest_aggr['reward_lwr'] = proj.groupby([(proj.index.year), (proj.index.month)])['reward_lwr'].sum().values\n",
    "proj_invest_aggr['reward_upr'] = proj.groupby([(proj.index.year), (proj.index.month)])['reward_upr'].sum().values\n",
    "proj_invest_aggr['price'] = proj.groupby([(proj.index.year), (proj.index.month)])['price'].median().values\n",
    "proj_invest_aggr['price_lwr'] = proj.groupby([(proj.index.year), (proj.index.month)])['price_lwr'].median().values\n",
    "proj_invest_aggr['price_upr'] = proj.groupby([(proj.index.year), (proj.index.month)])['price_upr'].median().values\n",
    "proj_invest_aggr['total_nodes'] = proj.groupby([(proj.index.year), (proj.index.month)])['tot_nodes'].max().values\n",
    "proj_invest_aggr['investment_nodes'] = proj.groupby([(proj.index.year), (proj.index.month)])['investment_nodes'].max().values"
   ]
  },
  {
   "cell_type": "code",
   "execution_count": null,
   "metadata": {},
   "outputs": [],
   "source": [
    "proj_invest_aggr.index.names = ['year','month']\n",
    "proj_invest_aggr.reset_index(level=['year', 'month'], inplace=True)\n",
    "proj_invest_aggr.to_csv('sys_notebooks/resources/proj_invest_aggr.csv')"
   ]
  }
 ],
 "metadata": {
  "kernelspec": {
   "display_name": "Python 3 (ipykernel)",
   "language": "python",
   "name": "python3"
  },
  "language_info": {
   "codemirror_mode": {
    "name": "ipython",
    "version": 3
   },
   "file_extension": ".py",
   "mimetype": "text/x-python",
   "name": "python",
   "nbconvert_exporter": "python",
   "pygments_lexer": "ipython3",
   "version": "3.9.7"
  }
 },
 "nbformat": 4,
 "nbformat_minor": 4
}
