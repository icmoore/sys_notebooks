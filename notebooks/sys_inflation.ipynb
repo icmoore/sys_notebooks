{
 "cells": [
  {
   "cell_type": "markdown",
   "metadata": {},
   "source": [
    "https://math.stackexchange.com/questions/1792539/how-do-we-convert-annual-growth-rate-to-daily-growth-rate\n",
    "https://stackoverflow.com/questions/13556703/array-elementwise-operations\n",
    "https://matplotlib.org/stable/tutorials/colors/colormaps.html\n",
    "https://stackoverflow.com/questions/17559408/confidence-and-prediction-intervals-with-statsmodels\n",
    "https://syscoin.org/syscoin3_whitepaper_summary.pdf\n",
    "https://messari.io/asset/syscoin/chart/sply-circ"
   ]
  },
  {
   "cell_type": "code",
   "execution_count": 1,
   "metadata": {},
   "outputs": [],
   "source": [
    "import datetime\n",
    "import numpy as np\n",
    "import pandas as pd\n",
    "import matplotlib.pyplot as plt\n",
    "from scipy.optimize import fmin, minimize"
   ]
  },
  {
   "cell_type": "code",
   "execution_count": 2,
   "metadata": {},
   "outputs": [
    {
     "ename": "FileNotFoundError",
     "evalue": "[Errno 2] No such file or directory: '../resources/ETHTransactionFeeOld.csv'",
     "output_type": "error",
     "traceback": [
      "\u001b[0;31m---------------------------------------------------------------------------\u001b[0m",
      "\u001b[0;31mFileNotFoundError\u001b[0m                         Traceback (most recent call last)",
      "\u001b[0;32m/var/folders/97/wcmz4r710pj20v_3cnvl09cm0000gn/T/ipykernel_9721/1533451512.py\u001b[0m in \u001b[0;36m<module>\u001b[0;34m\u001b[0m\n\u001b[0;32m----> 1\u001b[0;31m \u001b[0mtx_fee\u001b[0m \u001b[0;34m=\u001b[0m \u001b[0mpd\u001b[0m\u001b[0;34m.\u001b[0m\u001b[0mread_csv\u001b[0m\u001b[0;34m(\u001b[0m\u001b[0;34m'../resources/ETHTransactionFeeOld.csv'\u001b[0m\u001b[0;34m)\u001b[0m\u001b[0;34m\u001b[0m\u001b[0;34m\u001b[0m\u001b[0m\n\u001b[0m\u001b[1;32m      2\u001b[0m \u001b[0mtx_fee\u001b[0m\u001b[0;34m.\u001b[0m\u001b[0mcolumns\u001b[0m \u001b[0;34m=\u001b[0m \u001b[0;34m[\u001b[0m\u001b[0;34m'date'\u001b[0m\u001b[0;34m,\u001b[0m \u001b[0;34m'timestamp'\u001b[0m\u001b[0;34m,\u001b[0m\u001b[0;34m'tx_fee'\u001b[0m\u001b[0;34m]\u001b[0m\u001b[0;34m\u001b[0m\u001b[0;34m\u001b[0m\u001b[0m\n\u001b[1;32m      3\u001b[0m \u001b[0mtx_fee\u001b[0m \u001b[0;34m=\u001b[0m \u001b[0mtx_fee\u001b[0m\u001b[0;34m.\u001b[0m\u001b[0massign\u001b[0m\u001b[0;34m(\u001b[0m\u001b[0mtx_fee\u001b[0m \u001b[0;34m=\u001b[0m \u001b[0;34m[\u001b[0m\u001b[0mfloat\u001b[0m\u001b[0;34m(\u001b[0m\u001b[0mtx\u001b[0m\u001b[0;34m)\u001b[0m\u001b[0;34m/\u001b[0m\u001b[0;36m1e18\u001b[0m \u001b[0;32mfor\u001b[0m \u001b[0mtx\u001b[0m \u001b[0;32min\u001b[0m \u001b[0mtx_fee\u001b[0m\u001b[0;34m[\u001b[0m\u001b[0;34m'tx_fee'\u001b[0m\u001b[0;34m]\u001b[0m\u001b[0;34m.\u001b[0m\u001b[0mvalues\u001b[0m\u001b[0;34m]\u001b[0m\u001b[0;34m)\u001b[0m\u001b[0;34m\u001b[0m\u001b[0;34m\u001b[0m\u001b[0m\n\u001b[1;32m      4\u001b[0m \u001b[0mdate_split\u001b[0m \u001b[0;34m=\u001b[0m \u001b[0;34m[\u001b[0m\u001b[0mt\u001b[0m\u001b[0;34m.\u001b[0m\u001b[0mrstrip\u001b[0m\u001b[0;34m(\u001b[0m\u001b[0;34m)\u001b[0m\u001b[0;34m.\u001b[0m\u001b[0msplit\u001b[0m\u001b[0;34m(\u001b[0m\u001b[0;34m'/'\u001b[0m\u001b[0;34m)\u001b[0m \u001b[0;32mfor\u001b[0m \u001b[0mt\u001b[0m \u001b[0;32min\u001b[0m \u001b[0mtx_fee\u001b[0m\u001b[0;34m[\u001b[0m\u001b[0;34m'date'\u001b[0m\u001b[0;34m]\u001b[0m\u001b[0;34m.\u001b[0m\u001b[0mvalues\u001b[0m\u001b[0;34m]\u001b[0m\u001b[0;34m\u001b[0m\u001b[0;34m\u001b[0m\u001b[0m\n\u001b[1;32m      5\u001b[0m \u001b[0mdate_times\u001b[0m \u001b[0;34m=\u001b[0m \u001b[0;34m[\u001b[0m\u001b[0mdatetime\u001b[0m\u001b[0;34m.\u001b[0m\u001b[0mdate\u001b[0m\u001b[0;34m(\u001b[0m\u001b[0mint\u001b[0m\u001b[0;34m(\u001b[0m\u001b[0mt\u001b[0m\u001b[0;34m[\u001b[0m\u001b[0;36m2\u001b[0m\u001b[0;34m]\u001b[0m\u001b[0;34m)\u001b[0m\u001b[0;34m,\u001b[0m \u001b[0mint\u001b[0m\u001b[0;34m(\u001b[0m\u001b[0mt\u001b[0m\u001b[0;34m[\u001b[0m\u001b[0;36m0\u001b[0m\u001b[0;34m]\u001b[0m\u001b[0;34m)\u001b[0m\u001b[0;34m,\u001b[0m \u001b[0mint\u001b[0m\u001b[0;34m(\u001b[0m\u001b[0mt\u001b[0m\u001b[0;34m[\u001b[0m\u001b[0;36m1\u001b[0m\u001b[0;34m]\u001b[0m\u001b[0;34m)\u001b[0m\u001b[0;34m)\u001b[0m \u001b[0;32mfor\u001b[0m \u001b[0mt\u001b[0m \u001b[0;32min\u001b[0m \u001b[0mdate_split\u001b[0m\u001b[0;34m]\u001b[0m\u001b[0;34m\u001b[0m\u001b[0;34m\u001b[0m\u001b[0m\n",
      "\u001b[0;32m/opt/homebrew/anaconda3/lib/python3.9/site-packages/pandas/util/_decorators.py\u001b[0m in \u001b[0;36mwrapper\u001b[0;34m(*args, **kwargs)\u001b[0m\n\u001b[1;32m    309\u001b[0m                     \u001b[0mstacklevel\u001b[0m\u001b[0;34m=\u001b[0m\u001b[0mstacklevel\u001b[0m\u001b[0;34m,\u001b[0m\u001b[0;34m\u001b[0m\u001b[0;34m\u001b[0m\u001b[0m\n\u001b[1;32m    310\u001b[0m                 )\n\u001b[0;32m--> 311\u001b[0;31m             \u001b[0;32mreturn\u001b[0m \u001b[0mfunc\u001b[0m\u001b[0;34m(\u001b[0m\u001b[0;34m*\u001b[0m\u001b[0margs\u001b[0m\u001b[0;34m,\u001b[0m \u001b[0;34m**\u001b[0m\u001b[0mkwargs\u001b[0m\u001b[0;34m)\u001b[0m\u001b[0;34m\u001b[0m\u001b[0;34m\u001b[0m\u001b[0m\n\u001b[0m\u001b[1;32m    312\u001b[0m \u001b[0;34m\u001b[0m\u001b[0m\n\u001b[1;32m    313\u001b[0m         \u001b[0;32mreturn\u001b[0m \u001b[0mwrapper\u001b[0m\u001b[0;34m\u001b[0m\u001b[0;34m\u001b[0m\u001b[0m\n",
      "\u001b[0;32m/opt/homebrew/anaconda3/lib/python3.9/site-packages/pandas/io/parsers/readers.py\u001b[0m in \u001b[0;36mread_csv\u001b[0;34m(filepath_or_buffer, sep, delimiter, header, names, index_col, usecols, squeeze, prefix, mangle_dupe_cols, dtype, engine, converters, true_values, false_values, skipinitialspace, skiprows, skipfooter, nrows, na_values, keep_default_na, na_filter, verbose, skip_blank_lines, parse_dates, infer_datetime_format, keep_date_col, date_parser, dayfirst, cache_dates, iterator, chunksize, compression, thousands, decimal, lineterminator, quotechar, quoting, doublequote, escapechar, comment, encoding, encoding_errors, dialect, error_bad_lines, warn_bad_lines, on_bad_lines, delim_whitespace, low_memory, memory_map, float_precision, storage_options)\u001b[0m\n\u001b[1;32m    584\u001b[0m     \u001b[0mkwds\u001b[0m\u001b[0;34m.\u001b[0m\u001b[0mupdate\u001b[0m\u001b[0;34m(\u001b[0m\u001b[0mkwds_defaults\u001b[0m\u001b[0;34m)\u001b[0m\u001b[0;34m\u001b[0m\u001b[0;34m\u001b[0m\u001b[0m\n\u001b[1;32m    585\u001b[0m \u001b[0;34m\u001b[0m\u001b[0m\n\u001b[0;32m--> 586\u001b[0;31m     \u001b[0;32mreturn\u001b[0m \u001b[0m_read\u001b[0m\u001b[0;34m(\u001b[0m\u001b[0mfilepath_or_buffer\u001b[0m\u001b[0;34m,\u001b[0m \u001b[0mkwds\u001b[0m\u001b[0;34m)\u001b[0m\u001b[0;34m\u001b[0m\u001b[0;34m\u001b[0m\u001b[0m\n\u001b[0m\u001b[1;32m    587\u001b[0m \u001b[0;34m\u001b[0m\u001b[0m\n\u001b[1;32m    588\u001b[0m \u001b[0;34m\u001b[0m\u001b[0m\n",
      "\u001b[0;32m/opt/homebrew/anaconda3/lib/python3.9/site-packages/pandas/io/parsers/readers.py\u001b[0m in \u001b[0;36m_read\u001b[0;34m(filepath_or_buffer, kwds)\u001b[0m\n\u001b[1;32m    480\u001b[0m \u001b[0;34m\u001b[0m\u001b[0m\n\u001b[1;32m    481\u001b[0m     \u001b[0;31m# Create the parser.\u001b[0m\u001b[0;34m\u001b[0m\u001b[0;34m\u001b[0m\u001b[0m\n\u001b[0;32m--> 482\u001b[0;31m     \u001b[0mparser\u001b[0m \u001b[0;34m=\u001b[0m \u001b[0mTextFileReader\u001b[0m\u001b[0;34m(\u001b[0m\u001b[0mfilepath_or_buffer\u001b[0m\u001b[0;34m,\u001b[0m \u001b[0;34m**\u001b[0m\u001b[0mkwds\u001b[0m\u001b[0;34m)\u001b[0m\u001b[0;34m\u001b[0m\u001b[0;34m\u001b[0m\u001b[0m\n\u001b[0m\u001b[1;32m    483\u001b[0m \u001b[0;34m\u001b[0m\u001b[0m\n\u001b[1;32m    484\u001b[0m     \u001b[0;32mif\u001b[0m \u001b[0mchunksize\u001b[0m \u001b[0;32mor\u001b[0m \u001b[0miterator\u001b[0m\u001b[0;34m:\u001b[0m\u001b[0;34m\u001b[0m\u001b[0;34m\u001b[0m\u001b[0m\n",
      "\u001b[0;32m/opt/homebrew/anaconda3/lib/python3.9/site-packages/pandas/io/parsers/readers.py\u001b[0m in \u001b[0;36m__init__\u001b[0;34m(self, f, engine, **kwds)\u001b[0m\n\u001b[1;32m    809\u001b[0m             \u001b[0mself\u001b[0m\u001b[0;34m.\u001b[0m\u001b[0moptions\u001b[0m\u001b[0;34m[\u001b[0m\u001b[0;34m\"has_index_names\"\u001b[0m\u001b[0;34m]\u001b[0m \u001b[0;34m=\u001b[0m \u001b[0mkwds\u001b[0m\u001b[0;34m[\u001b[0m\u001b[0;34m\"has_index_names\"\u001b[0m\u001b[0;34m]\u001b[0m\u001b[0;34m\u001b[0m\u001b[0;34m\u001b[0m\u001b[0m\n\u001b[1;32m    810\u001b[0m \u001b[0;34m\u001b[0m\u001b[0m\n\u001b[0;32m--> 811\u001b[0;31m         \u001b[0mself\u001b[0m\u001b[0;34m.\u001b[0m\u001b[0m_engine\u001b[0m \u001b[0;34m=\u001b[0m \u001b[0mself\u001b[0m\u001b[0;34m.\u001b[0m\u001b[0m_make_engine\u001b[0m\u001b[0;34m(\u001b[0m\u001b[0mself\u001b[0m\u001b[0;34m.\u001b[0m\u001b[0mengine\u001b[0m\u001b[0;34m)\u001b[0m\u001b[0;34m\u001b[0m\u001b[0;34m\u001b[0m\u001b[0m\n\u001b[0m\u001b[1;32m    812\u001b[0m \u001b[0;34m\u001b[0m\u001b[0m\n\u001b[1;32m    813\u001b[0m     \u001b[0;32mdef\u001b[0m \u001b[0mclose\u001b[0m\u001b[0;34m(\u001b[0m\u001b[0mself\u001b[0m\u001b[0;34m)\u001b[0m\u001b[0;34m:\u001b[0m\u001b[0;34m\u001b[0m\u001b[0;34m\u001b[0m\u001b[0m\n",
      "\u001b[0;32m/opt/homebrew/anaconda3/lib/python3.9/site-packages/pandas/io/parsers/readers.py\u001b[0m in \u001b[0;36m_make_engine\u001b[0;34m(self, engine)\u001b[0m\n\u001b[1;32m   1038\u001b[0m             )\n\u001b[1;32m   1039\u001b[0m         \u001b[0;31m# error: Too many arguments for \"ParserBase\"\u001b[0m\u001b[0;34m\u001b[0m\u001b[0;34m\u001b[0m\u001b[0m\n\u001b[0;32m-> 1040\u001b[0;31m         \u001b[0;32mreturn\u001b[0m \u001b[0mmapping\u001b[0m\u001b[0;34m[\u001b[0m\u001b[0mengine\u001b[0m\u001b[0;34m]\u001b[0m\u001b[0;34m(\u001b[0m\u001b[0mself\u001b[0m\u001b[0;34m.\u001b[0m\u001b[0mf\u001b[0m\u001b[0;34m,\u001b[0m \u001b[0;34m**\u001b[0m\u001b[0mself\u001b[0m\u001b[0;34m.\u001b[0m\u001b[0moptions\u001b[0m\u001b[0;34m)\u001b[0m  \u001b[0;31m# type: ignore[call-arg]\u001b[0m\u001b[0;34m\u001b[0m\u001b[0;34m\u001b[0m\u001b[0m\n\u001b[0m\u001b[1;32m   1041\u001b[0m \u001b[0;34m\u001b[0m\u001b[0m\n\u001b[1;32m   1042\u001b[0m     \u001b[0;32mdef\u001b[0m \u001b[0m_failover_to_python\u001b[0m\u001b[0;34m(\u001b[0m\u001b[0mself\u001b[0m\u001b[0;34m)\u001b[0m\u001b[0;34m:\u001b[0m\u001b[0;34m\u001b[0m\u001b[0;34m\u001b[0m\u001b[0m\n",
      "\u001b[0;32m/opt/homebrew/anaconda3/lib/python3.9/site-packages/pandas/io/parsers/c_parser_wrapper.py\u001b[0m in \u001b[0;36m__init__\u001b[0;34m(self, src, **kwds)\u001b[0m\n\u001b[1;32m     49\u001b[0m \u001b[0;34m\u001b[0m\u001b[0m\n\u001b[1;32m     50\u001b[0m         \u001b[0;31m# open handles\u001b[0m\u001b[0;34m\u001b[0m\u001b[0;34m\u001b[0m\u001b[0m\n\u001b[0;32m---> 51\u001b[0;31m         \u001b[0mself\u001b[0m\u001b[0;34m.\u001b[0m\u001b[0m_open_handles\u001b[0m\u001b[0;34m(\u001b[0m\u001b[0msrc\u001b[0m\u001b[0;34m,\u001b[0m \u001b[0mkwds\u001b[0m\u001b[0;34m)\u001b[0m\u001b[0;34m\u001b[0m\u001b[0;34m\u001b[0m\u001b[0m\n\u001b[0m\u001b[1;32m     52\u001b[0m         \u001b[0;32massert\u001b[0m \u001b[0mself\u001b[0m\u001b[0;34m.\u001b[0m\u001b[0mhandles\u001b[0m \u001b[0;32mis\u001b[0m \u001b[0;32mnot\u001b[0m \u001b[0;32mNone\u001b[0m\u001b[0;34m\u001b[0m\u001b[0;34m\u001b[0m\u001b[0m\n\u001b[1;32m     53\u001b[0m \u001b[0;34m\u001b[0m\u001b[0m\n",
      "\u001b[0;32m/opt/homebrew/anaconda3/lib/python3.9/site-packages/pandas/io/parsers/base_parser.py\u001b[0m in \u001b[0;36m_open_handles\u001b[0;34m(self, src, kwds)\u001b[0m\n\u001b[1;32m    220\u001b[0m         \u001b[0mLet\u001b[0m \u001b[0mthe\u001b[0m \u001b[0mreaders\u001b[0m \u001b[0mopen\u001b[0m \u001b[0mIOHandles\u001b[0m \u001b[0mafter\u001b[0m \u001b[0mthey\u001b[0m \u001b[0mare\u001b[0m \u001b[0mdone\u001b[0m \u001b[0;32mwith\u001b[0m \u001b[0mtheir\u001b[0m \u001b[0mpotential\u001b[0m \u001b[0mraises\u001b[0m\u001b[0;34m.\u001b[0m\u001b[0;34m\u001b[0m\u001b[0;34m\u001b[0m\u001b[0m\n\u001b[1;32m    221\u001b[0m         \"\"\"\n\u001b[0;32m--> 222\u001b[0;31m         self.handles = get_handle(\n\u001b[0m\u001b[1;32m    223\u001b[0m             \u001b[0msrc\u001b[0m\u001b[0;34m,\u001b[0m\u001b[0;34m\u001b[0m\u001b[0;34m\u001b[0m\u001b[0m\n\u001b[1;32m    224\u001b[0m             \u001b[0;34m\"r\"\u001b[0m\u001b[0;34m,\u001b[0m\u001b[0;34m\u001b[0m\u001b[0;34m\u001b[0m\u001b[0m\n",
      "\u001b[0;32m/opt/homebrew/anaconda3/lib/python3.9/site-packages/pandas/io/common.py\u001b[0m in \u001b[0;36mget_handle\u001b[0;34m(path_or_buf, mode, encoding, compression, memory_map, is_text, errors, storage_options)\u001b[0m\n\u001b[1;32m    700\u001b[0m         \u001b[0;32mif\u001b[0m \u001b[0mioargs\u001b[0m\u001b[0;34m.\u001b[0m\u001b[0mencoding\u001b[0m \u001b[0;32mand\u001b[0m \u001b[0;34m\"b\"\u001b[0m \u001b[0;32mnot\u001b[0m \u001b[0;32min\u001b[0m \u001b[0mioargs\u001b[0m\u001b[0;34m.\u001b[0m\u001b[0mmode\u001b[0m\u001b[0;34m:\u001b[0m\u001b[0;34m\u001b[0m\u001b[0;34m\u001b[0m\u001b[0m\n\u001b[1;32m    701\u001b[0m             \u001b[0;31m# Encoding\u001b[0m\u001b[0;34m\u001b[0m\u001b[0;34m\u001b[0m\u001b[0m\n\u001b[0;32m--> 702\u001b[0;31m             handle = open(\n\u001b[0m\u001b[1;32m    703\u001b[0m                 \u001b[0mhandle\u001b[0m\u001b[0;34m,\u001b[0m\u001b[0;34m\u001b[0m\u001b[0;34m\u001b[0m\u001b[0m\n\u001b[1;32m    704\u001b[0m                 \u001b[0mioargs\u001b[0m\u001b[0;34m.\u001b[0m\u001b[0mmode\u001b[0m\u001b[0;34m,\u001b[0m\u001b[0;34m\u001b[0m\u001b[0;34m\u001b[0m\u001b[0m\n",
      "\u001b[0;31mFileNotFoundError\u001b[0m: [Errno 2] No such file or directory: '../resources/ETHTransactionFeeOld.csv'"
     ]
    }
   ],
   "source": [
    "tx_fee = pd.read_csv('../resources/ETHTransactionFeeOld.csv')\n",
    "tx_fee.columns = ['date', 'timestamp','tx_fee']\n",
    "tx_fee = tx_fee.assign(tx_fee = [float(tx)/1e18 for tx in tx_fee['tx_fee'].values])\n",
    "date_split = [t.rstrip().split('/') for t in tx_fee['date'].values]\n",
    "date_times = [datetime.date(int(t[2]), int(t[0]), int(t[1])) for t in date_split]\n",
    "tx_fee = tx_fee.assign(date_time = date_times)"
   ]
  },
  {
   "cell_type": "code",
   "execution_count": null,
   "metadata": {},
   "outputs": [],
   "source": [
    "INITIAL_SYS_SUPPLY = 614730694.63 # June 28th, 2021"
   ]
  },
  {
   "cell_type": "code",
   "execution_count": null,
   "metadata": {},
   "outputs": [],
   "source": [
    "tx_fee.loc[100]"
   ]
  },
  {
   "cell_type": "code",
   "execution_count": null,
   "metadata": {},
   "outputs": [],
   "source": [
    "INITIAL_SYS_SUPPLY = 614730694.63 # June 28th, 2021\n",
    "MAX_COINS = 888000000\n",
    "DAYS_IN_YEAR = 365\n",
    "ANNUAL_INFLATION = 0.05\n",
    "DAILY_PERCENTAGE_GRWTH = (1+ANNUAL_INFLATION)**(1/DAYS_IN_YEAR)\n",
    "LAST_DATE = '2021-06-28 00:00:00'\n",
    "START_DATE = '2015-11-07 00:00:00'"
   ]
  },
  {
   "cell_type": "code",
   "execution_count": null,
   "metadata": {},
   "outputs": [],
   "source": [
    "def supplyNYears(A,t):\n",
    "    return A*(1.05)**t\n",
    "\n",
    "def supplyNDays(A,t):\n",
    "    daysInYr = 366 if isLeapYear(getDate(t, strt_date = LAST_DATE).year) else 365\n",
    "    return A*(1.05)**(t/365)"
   ]
  },
  {
   "cell_type": "code",
   "execution_count": null,
   "metadata": {},
   "outputs": [],
   "source": [
    "def isLeapYear(yr):\n",
    "    return bool((yr-2000) % 4 == 0) \n",
    "\n",
    "def getDate(t, strt_date = START_DATE):\n",
    "    return datetime.datetime.strptime(strt_date, \"%Y-%m-%d %H:%M:%S\") + datetime.timedelta(days=t) "
   ]
  },
  {
   "cell_type": "code",
   "execution_count": 4,
   "metadata": {},
   "outputs": [],
   "source": [
    "N = 365\n",
    "STRT_DATE = '2022-01-01 00:00:00'\n",
    "STRT_SUPPLY = 554103161\n",
    "STRT_YR = 2019\n",
    "DEFLATION = 0.05\n",
    "INITIAL_BLK_REWARD = 151767*12/(365*24*60) + 7.81 + 23.45\n",
    "NUM_DAILY_BLOCKS = 24*60\n",
    "\n",
    "def gen_block_rewards(strt_date = STRT_DATE,\n",
    "                      strt_supply = STRT_SUPPLY,\n",
    "                      ini_blk_reward = INITIAL_BLK_REWARD,\n",
    "                      n = N,\n",
    "                      deflation = DEFLATION,\n",
    "                      num_daily_blocks = NUM_DAILY_BLOCKS,\n",
    "                      nevm_rewards = None,\n",
    "                      pow_rewards = None):\n",
    "    \n",
    "    STRT_YR = datetime.datetime.strptime(strt_date, \"%Y-%m-%d %H:%M:%S\").year\n",
    "    blk_rewards = [ini_blk_reward]\n",
    "    dates = np.array([getDate(t, strt_date = strt_date) for t in range(0,n)])\n",
    "    da = np.array([dates.flatten()[t].day for t in range(0,n)])\n",
    "    mo = np.array([dates.flatten()[t].month for t in range(0,n)])\n",
    "    yr = np.array([dates.flatten()[t].year for t in range(0,n)])\n",
    "\n",
    "    rewards = np.repeat(0.0,n)\n",
    "    rewards[0] = blk_rewards[0]\n",
    "\n",
    "    for k in range(1, n):\n",
    "        diff_yr = yr[k] - yr[k-1]\n",
    "        diff_mo = mo[k] - mo[k-1]\n",
    "        rewards[k] = blk_rewards[len(blk_rewards)-1]\n",
    "        \n",
    "        if diff_mo == 1:\n",
    "            blk_reward = blk_rewards[len(blk_rewards)-1]\n",
    "        \n",
    "        if diff_yr == 1:\n",
    "            blk_reward = blk_rewards[len(blk_rewards)-1]\n",
    "            blk_rewards.append(blk_reward - deflation*blk_reward)\n",
    "\n",
    "    daily_rewards = rewards*num_daily_blocks       \n",
    "            \n",
    "    df = pd.DataFrame({'dates':dates.flatten(),\n",
    "                       'yr':yr.flatten(),\n",
    "                       'mo':mo.flatten(),\n",
    "                       'da':da.flatten(),\n",
    "                       'blk_reward':rewards,\n",
    "                       'daily_rewards':daily_rewards,\n",
    "                       'supply':strt_supply+np.cumsum(daily_rewards)})\n",
    "    \n",
    "    if (nevm_rewards != None): \n",
    "        df.insert(loc=5, column='nevm_rewards', value=nevm_rewards)\n",
    "\n",
    "    if (pow_rewards != None): \n",
    "        df.insert(loc=6, column='pow_rewards', value=pow_rewards)  \n",
    "        \n",
    "    if (nevm_rewards != None) & (pow_rewards != None):\n",
    "        rewards = rewards + np.repeat(nevm_rewards,n)\n",
    "        daily_rewards = rewards*num_daily_blocks \n",
    "        df = df.assign(daily_rewards=daily_rewards)\n",
    "          \n",
    "    return df"
   ]
  },
  {
   "cell_type": "code",
   "execution_count": null,
   "metadata": {},
   "outputs": [],
   "source": [
    "N = 365*4 + 1\n",
    "\n",
    "supply = [INITIAL_SYS_SUPPLY]\n",
    "for t in range(1,N): supply.append(supply[-1]*DAILY_PERCENTAGE_GRWTH)\n",
    "supply = np.array(supply)\n",
    "dates = np.array([getDate(t) for t in range(0,N)])\n",
    "\n",
    "df = pd.DataFrame({'dates':dates.flatten(), 'inflate':supply.flatten()})\n",
    "df['inflate'].values[-1]"
   ]
  },
  {
   "cell_type": "code",
   "execution_count": null,
   "metadata": {},
   "outputs": [],
   "source": [
    "# Jun 03 2019 (start)\n",
    "# supply = 554103161\n",
    "\n",
    "# Aug 23, 2021 (end) \n",
    "# supply 617746652"
   ]
  },
  {
   "cell_type": "code",
   "execution_count": null,
   "metadata": {},
   "outputs": [],
   "source": [
    "INDEX = 812\n",
    "SUPPLY_AT_INDEX = 617746652\n",
    "\n",
    "def objective_function(alpha):\n",
    "    \n",
    "    pow_df = gen_block_rewards(strt_date = STRT_DATE, \n",
    "                           strt_supply = STRT_SUPPLY, \n",
    "                           ini_blk_reward = alpha*38.5,\n",
    "                           n = N)\n",
    "                  \n",
    "    return abs(SUPPLY_AT_INDEX - pow_df['supply'].iloc[INDEX])"
   ]
  },
  {
   "cell_type": "code",
   "execution_count": null,
   "metadata": {},
   "outputs": [],
   "source": [
    "ALPHA_INIT = 1.4872300387520823\n",
    "result = minimize(objective_function, ALPHA_INIT, method='SLSQP', options={'maxiter': 1000})\n",
    "alpha_hat = result.x[0]\n",
    "alpha_hat"
   ]
  },
  {
   "cell_type": "code",
   "execution_count": null,
   "metadata": {},
   "outputs": [],
   "source": [
    "alpha_hat = 1.4872300387520823\n",
    "N = 943\n",
    "STRT_DATE = '2019-06-03 00:00:00'\n",
    "STRT_SUPPLY = 554103161\n",
    "NUM_DAILY_BLOCKS = 24*60\n",
    "INITIAL_BLK_REWARD = alpha_hat*38.5\n",
    "\n",
    "pow_df = gen_block_rewards(strt_date = STRT_DATE, \n",
    "                           strt_supply = STRT_SUPPLY, \n",
    "                           ini_blk_reward = INITIAL_BLK_REWARD,\n",
    "                           n = N)\n",
    "\n",
    "pow_df.iloc[810:815]"
   ]
  },
  {
   "cell_type": "code",
   "execution_count": null,
   "metadata": {},
   "outputs": [],
   "source": [
    "pow_df.tail(3)"
   ]
  },
  {
   "cell_type": "code",
   "execution_count": null,
   "metadata": {},
   "outputs": [],
   "source": [
    "N = 12*365+3\n",
    "STRT_DATE = '2021-12-06 00:00:00'\n",
    "STRT_SUPPLY = pow_df['supply'].iloc[917]\n",
    "NUM_DAILY_BLOCKS = 24*60\n",
    "INITIAL_BLK_REWARD = 151767*12/(365*24*60) + 7.81 + 23.45\n",
    "\n",
    "nevm_lwr = gen_block_rewards(strt_date = STRT_DATE, \n",
    "                           strt_supply = STRT_SUPPLY, \n",
    "                           ini_blk_reward = INITIAL_BLK_REWARD,\n",
    "                           n = N,\n",
    "                           nevm_rewards = 10.55,\n",
    "                           pow_rewards = 5.27)"
   ]
  },
  {
   "cell_type": "code",
   "execution_count": null,
   "metadata": {},
   "outputs": [],
   "source": [
    "N = 12*365+3\n",
    "STRT_DATE = '2021-12-06 00:00:00'\n",
    "STRT_SUPPLY = pow_df['supply'].iloc[917]\n",
    "NUM_DAILY_BLOCKS = 24*60\n",
    "INITIAL_BLK_REWARD = pow_df['blk_reward'].values[-1]\n",
    "\n",
    "nevm_med = gen_block_rewards(strt_date = STRT_DATE, \n",
    "                           strt_supply = STRT_SUPPLY, \n",
    "                           ini_blk_reward = INITIAL_BLK_REWARD,\n",
    "                           n = N,\n",
    "                           nevm_rewards = 10.55,\n",
    "                           pow_rewards = 10.55)"
   ]
  },
  {
   "cell_type": "code",
   "execution_count": null,
   "metadata": {},
   "outputs": [],
   "source": [
    "N = 12*365+3\n",
    "STRT_DATE = '2021-12-06 00:00:00'\n",
    "STRT_SUPPLY = pow_df['supply'].iloc[917]\n",
    "NUM_DAILY_BLOCKS = 24*60\n",
    "INITIAL_BLK_REWARD = 151767*12/(365*24*60) + 7.81 + 46.9\n",
    "\n",
    "nevm_upr = gen_block_rewards(strt_date = STRT_DATE, \n",
    "                           strt_supply = STRT_SUPPLY, \n",
    "                           ini_blk_reward = INITIAL_BLK_REWARD,\n",
    "                           n = N,\n",
    "                           nevm_rewards = 10.55,\n",
    "                           pow_rewards = 10.55)"
   ]
  },
  {
   "cell_type": "code",
   "execution_count": null,
   "metadata": {},
   "outputs": [],
   "source": [
    "nevm_df = nevm_lwr.iloc[:, [0,1,2,3]]\n",
    "nevm_df.insert(loc=4, column='blk_reward_lwr', value=nevm_lwr['blk_reward'].values)\n",
    "nevm_df.insert(loc=5, column='nevm_rewards_lwr', value=nevm_lwr['nevm_rewards'].values)\n",
    "nevm_df.insert(loc=6, column='pow_rewards_lwr', value=nevm_lwr['pow_rewards'].values)\n",
    "nevm_df.insert(loc=7, column='daily_rewards_lwr', value=nevm_lwr['daily_rewards'].values)\n",
    "nevm_df.insert(loc=8, column='supply_lwr', value=nevm_lwr['supply'].values)\n",
    "\n",
    "nevm_df.insert(loc=9, column='blk_reward_upr', value=nevm_upr['blk_reward'].values)\n",
    "nevm_df.insert(loc=10, column='nevm_rewards_upr', value=nevm_upr['nevm_rewards'].values)\n",
    "nevm_df.insert(loc=11, column='pow_rewards_upr', value=nevm_upr['pow_rewards'].values)\n",
    "nevm_df.insert(loc=12, column='daily_rewards_upr', value=nevm_upr['daily_rewards'].values)\n",
    "nevm_df.insert(loc=13, column='supply_upr', value=nevm_upr['supply'].values)"
   ]
  },
  {
   "cell_type": "code",
   "execution_count": null,
   "metadata": {},
   "outputs": [],
   "source": [
    "nevm_upr.head(5)"
   ]
  },
  {
   "cell_type": "code",
   "execution_count": null,
   "metadata": {},
   "outputs": [],
   "source": [
    "fig = plt.figure(figsize=(12,5))\n",
    "plt.plot(nevm_med['dates'].values, nevm_med['supply'].values, color='green', linestyle='dashed', label=\"y_pred\")\n",
    "plt.plot(pow_df['dates'].values, pow_df['supply'].values, color='blue', linestyle='dashed', label=\"y_pred\")\n",
    "plt.fill_between(nevm_df['dates'].values, nevm_df['supply_lwr'].values, nevm_df['supply_upr'].values, alpha=0.7, color='lightblue')\n",
    "plt.title(\"Syscoin Supply (uses ETH Daily TX Fees)\", fontsize=20)\n",
    "plt.ylabel(\"Supply\", fontsize=14)\n",
    "plt.xlabel(\"Date\", fontsize=14)\n",
    "fig.savefig('../img/syscoin_daily_supply.png')"
   ]
  },
  {
   "cell_type": "code",
   "execution_count": null,
   "metadata": {},
   "outputs": [],
   "source": [
    "supplyNDays(INITIAL_SYS_SUPPLY,365)"
   ]
  },
  {
   "cell_type": "code",
   "execution_count": null,
   "metadata": {},
   "outputs": [],
   "source": [
    "supplyNYears(INITIAL_SYS_SUPPLY,1)"
   ]
  },
  {
   "cell_type": "code",
   "execution_count": null,
   "metadata": {},
   "outputs": [],
   "source": [
    "def f(t_x,n_coins_y):\n",
    "    n_supply = supplyNDays(INITIAL_SYS_SUPPLY,t_x)\n",
    "    val = 1\n",
    "    if(n_coins_y < 0.1*n_supply):\n",
    "        val = 4\n",
    "    elif (n_coins_y >= 0.1*n_supply and n_coins_y < 0.25*n_supply):\n",
    "        val = 3\n",
    "    elif (n_coins_y >= 0.25*n_supply and n_coins_y < n_supply):\n",
    "        val = 2        \n",
    "    else:\n",
    "        val = 0\n",
    "    return val  "
   ]
  },
  {
   "cell_type": "code",
   "execution_count": null,
   "metadata": {},
   "outputs": [],
   "source": [
    "Xt = np.linspace(0, 3000, 1000)\n",
    "Xdate = list(map(getDate, Xt))\n",
    "Y = np.linspace(0, 1e9, 1000)\n",
    "t, n_coins = np.meshgrid(Xt, Y)"
   ]
  },
  {
   "cell_type": "code",
   "execution_count": null,
   "metadata": {},
   "outputs": [],
   "source": [
    "def applier(a, b, op):\n",
    "    return list(map(lambda ro: list(map(op, ro[0], ro[1])), zip(a,b)))\n",
    "Z = applier(t, n_coins, f)"
   ]
  },
  {
   "cell_type": "code",
   "execution_count": null,
   "metadata": {},
   "outputs": [],
   "source": [
    "fig = plt.figure(figsize=(8, 5))\n",
    "\n",
    "cs = plt.contourf(Xdate,Y,Z, cmap='PuBu', levels=[0,1,2,3,4])\n",
    "\n",
    "proxy = [plt.Rectangle((0,0),1,1,fc = pc.get_facecolor()[0]) for pc in cs.collections]\n",
    "\n",
    "plt.ylabel(\"Supply\")\n",
    "plt.xlabel(\"Date\")\n",
    "plt.title(\"Syscoin Distribution\", fontsize=15)\n",
    "\n",
    "plt.legend(proxy[1:], [\"masternodes\", \"miners\", \"governance\"])\n",
    "plt.show()"
   ]
  },
  {
   "cell_type": "code",
   "execution_count": null,
   "metadata": {},
   "outputs": [],
   "source": [
    "tx_fee['tx_fee'].values[-1]"
   ]
  },
  {
   "cell_type": "code",
   "execution_count": null,
   "metadata": {},
   "outputs": [],
   "source": [
    "import statsmodels.api as sm\n",
    "\n",
    "N = 12*365\n",
    "\n",
    "from statsmodels.stats.outliers_influence import summary_table\n",
    "from statsmodels.sandbox.regression.predstd import wls_prediction_std\n",
    "import numpy as np\n",
    "import random\n",
    "\n",
    "y = np.log(tx_fee['tx_fee'].values[100:])\n",
    "x = np.log(np.array(range(1,len(y)+1)))\n",
    "\n",
    "X = sm.add_constant(x)\n",
    "regr = sm.OLS(y, X)\n",
    "fit = regr.fit()\n",
    "y_hat = fit.fittedvalues\n",
    "prstd, y_hat_lwr, y_hat_upr = wls_prediction_std(fit)\n",
    "\n",
    "st, data, ss2 = summary_table(fit, alpha=0.05)\n",
    "\n",
    "x_new = np.log(np.array(range(2061,2061+N)))\n",
    "X_p = sm.add_constant(x_new)\n",
    "pred = fit.get_prediction(X_p)\n",
    "\n",
    "y_pred = pred.predicted_mean\n",
    "y_pred_lwr = y_pred - 1.96*prstd[0]\n",
    "y_pred_upr = y_pred + 1.96*prstd[0]"
   ]
  },
  {
   "cell_type": "code",
   "execution_count": null,
   "metadata": {},
   "outputs": [],
   "source": [
    "mc_sim = [np.random.normal(y_pred[k], prstd[0],100) for k in range(0,len(y_pred))]\n",
    "mc_sim_med = [np.median(mc_sim[k]) for k in range(0,len(y_pred))]\n",
    "mc_sim_lwr = [np.quantile(mc_sim[k],0.05) for k in range(0,len(y_pred))]\n",
    "mc_sim_upr = [np.quantile(mc_sim[k],0.95) for k in range(0,len(y_pred))]"
   ]
  },
  {
   "cell_type": "code",
   "execution_count": null,
   "metadata": {},
   "outputs": [],
   "source": [
    "sim = mc_sim[0]\n",
    "for k in range(1,len(y_pred)):\n",
    "    sim = np.vstack((sim, mc_sim[k]))"
   ]
  },
  {
   "cell_type": "code",
   "execution_count": null,
   "metadata": {},
   "outputs": [],
   "source": [
    "dates = [getDate(t) for t in range(0,2062)]\n",
    "dates_pred = [getDate(t) for t in range(2061,2061+N)]"
   ]
  },
  {
   "cell_type": "code",
   "execution_count": null,
   "metadata": {},
   "outputs": [],
   "source": [
    "x = np.array(range(1,len(y)+1))\n",
    "x_pred = np.array(range(2061,2061+N))\n",
    "\n",
    "fig = plt.figure(figsize=(12,5))\n",
    "ax = fig.gca()\n",
    "plt.plot(dates, y, label=\"Raw (y)\")\n",
    "plt.plot(dates, y_hat, color='blue', label=\"y_hat\")\n",
    "plt.fill_between(dates, y_hat_lwr, y_hat_upr, alpha=0.3, color='lightblue')\n",
    "\n",
    "plt.plot(dates_pred, y_pred, color='purple', linestyle='dashed', label=\"y_pred\")\n",
    "plt.fill_between(dates_pred, y_pred_lwr, y_pred_upr, alpha=0.3, color='lightblue')\n",
    "plt.title(\"Daily TX Fee in Ether\", fontsize=20)\n",
    "plt.xlabel(\"Date\", fontsize=14)\n",
    "plt.ylabel(\"Log(ETH)\", fontsize=14)\n",
    "plt.ylim(-1,12)\n",
    "plt.legend();\n",
    "fig.savefig('../img/eth_daily_tx_fee.png')"
   ]
  },
  {
   "cell_type": "code",
   "execution_count": null,
   "metadata": {},
   "outputs": [],
   "source": [
    "x = np.array(range(1,len(y)+1))\n",
    "x_pred = np.array(range(2061,2061+N))\n",
    "\n",
    "fig = plt.figure(figsize=(12,5))\n",
    "plt.plot(dates, np.exp(y), label=\"Raw (y)\")\n",
    "plt.plot(dates, np.exp(y_hat), color='blue', label=\"y_hat\")\n",
    "plt.fill_between(dates, np.exp(y_hat_lwr), np.exp(y_hat_upr), alpha=0.3, color='lightblue')\n",
    "\n",
    "#plt.plot(dates_pred, np.exp(y_pred), color='blue', linestyle='dashed', label=\"y_pred\")\n",
    "#plt.fill_between(dates_pred, np.exp(y_pred_lwr), np.exp(y_pred_upr), alpha=0.3, color='lightblue')\n",
    "plt.title(\"Daily TX Fee in Ether\", fontsize=20)\n",
    "fig.savefig('../img/eth_daily_tx_fee2.png')\n",
    "plt.legend();"
   ]
  },
  {
   "cell_type": "code",
   "execution_count": null,
   "metadata": {},
   "outputs": [],
   "source": [
    "dates_ = np.append(dates, dates_pred[1:])\n",
    "y_hat_ = np.append(y_hat, y_pred[1:])\n",
    "y_hat_lwr_ = np.append(y_hat_lwr, y_pred_lwr[1:])\n",
    "y_pred_upr_ = np.append(y_hat_upr, y_pred_upr[1:])\n",
    "\n",
    "est_df = pd.DataFrame({'dates':dates_,\n",
    "                        'pred':np.cumsum(np.exp(y_hat_)),\n",
    "                        'pred_lwr':np.cumsum(np.exp(y_hat_lwr_)),\n",
    "                        'pred_upr':np.cumsum(np.exp(y_pred_upr_))})\n",
    "\n",
    "est_df = est_df.iloc[0:len(nevm_df)]"
   ]
  },
  {
   "cell_type": "code",
   "execution_count": null,
   "metadata": {},
   "outputs": [],
   "source": [
    "addition_supply = 100000000\n",
    "\n",
    "coin_supply_upr = addition_supply + nevm_df['supply_upr'].values - est_df['pred_lwr'].values\n",
    "coin_supply_lwr = addition_supply + nevm_df['supply_lwr'].values - est_df['pred_upr'].values\n",
    "\n",
    "\n",
    "sys_dates = nevm_med['dates'].values\n",
    "sys_supply =  addition_supply+nevm_med['supply'].values\n",
    "\n",
    "fig = plt.figure(figsize=(12,5))\n",
    "plt.plot(sys_dates, sys_supply, color='green', linestyle='dashed', label=\"y_pred\")\n",
    "plt.fill_between(nevm_med['dates'].values, coin_supply_lwr, coin_supply_upr, alpha=0.3, color='lightblue')\n",
    "plt.title(\"Syscoin Supply (uses ETH Daily TX Fees)\", fontsize=20)\n",
    "fig.savefig('../img/syscoin_daily_supply.png')\n",
    "plt.ylabel(\"SYS Supply\", fontsize=14)\n",
    "plt.xlabel(\"Date\", fontsize=14)"
   ]
  },
  {
   "cell_type": "code",
   "execution_count": null,
   "metadata": {},
   "outputs": [],
   "source": [
    "coin_supply_upr = nevm_df['supply_upr'].values - est_df['pred_lwr'].values\n",
    "coin_supply_lwr = nevm_df['supply_lwr'].values - est_df['pred_upr'].values\n",
    "\n",
    "fig = plt.figure(figsize=(12,5))\n",
    "plt.plot(nevm_med['dates'].values, nevm_med['supply'].values, color='green', linestyle='dashed', label=\"y_pred\")\n",
    "plt.plot(pow_df['dates'].values, pow_df['supply'].values, color='blue', linestyle='dashed', label=\"y_pred\")\n",
    "plt.fill_between(nevm_med['dates'].values, coin_supply_lwr, coin_supply_upr, alpha=0.3, color='lightblue')\n",
    "plt.title(\"Syscoin Supply (uses ETH Daily TX Fees)\", fontsize=20)\n",
    "fig.savefig('../img/syscoin_daily_supply.png')\n",
    "plt.ylabel(\"SYS Supply\", fontsize=14)\n",
    "plt.xlabel(\"Date\", fontsize=14)"
   ]
  },
  {
   "cell_type": "code",
   "execution_count": null,
   "metadata": {},
   "outputs": [],
   "source": [
    "pred_df = pd.DataFrame({'dates': nevm_med['dates'].values,\n",
    "                        'pred':addition_supply + nevm_med['supply'].values,\n",
    "                        'pred_lwr':addition_supply + coin_supply_lwr,\n",
    "                        'pred_upr':addition_supply + coin_supply_upr})"
   ]
  },
  {
   "cell_type": "code",
   "execution_count": null,
   "metadata": {},
   "outputs": [],
   "source": [
    "mo = pd.to_datetime(pred_df['dates'].values).month\n",
    "da = pd.to_datetime(pred_df['dates'].values).day\n",
    "\n",
    "indices = []\n",
    "m = 0\n",
    "for k in range(0,len(pred_df)):\n",
    "    if((mo[k] == 1) & (da[k] == 1)): indices.append(k)\n",
    "    \n",
    "pred_df.iloc[indices]"
   ]
  }
 ],
 "metadata": {
  "kernelspec": {
   "display_name": "Python 3 (ipykernel)",
   "language": "python",
   "name": "python3"
  },
  "language_info": {
   "codemirror_mode": {
    "name": "ipython",
    "version": 3
   },
   "file_extension": ".py",
   "mimetype": "text/x-python",
   "name": "python",
   "nbconvert_exporter": "python",
   "pygments_lexer": "ipython3",
   "version": "3.9.7"
  }
 },
 "nbformat": 4,
 "nbformat_minor": 4
}
