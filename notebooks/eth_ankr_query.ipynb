{
 "cells": [
  {
   "cell_type": "markdown",
   "id": "51226dcc-fe10-45ec-ab84-0d49c99e5b84",
   "metadata": {},
   "source": [
    "* https://www.ankr.com/docs/build-blockchain/guides/json-methods/\n",
    "* https://www.ankr.com/docs/learn/tutorials/connect-web3py/"
   ]
  },
  {
   "cell_type": "code",
   "execution_count": 10,
   "id": "bd85e3dc-1d1c-4617-840a-e7d38f1aead6",
   "metadata": {},
   "outputs": [],
   "source": [
    "from web3 import Web3\n",
    "from datetime import datetime"
   ]
  },
  {
   "cell_type": "code",
   "execution_count": 11,
   "id": "f3ff7867-e000-456a-8e95-c5ac7ae6491a",
   "metadata": {},
   "outputs": [],
   "source": [
    "ankr_url = 'https://rpc.ankr.com/eth'\n",
    "web3 = Web3(Web3.HTTPProvider(ankr_url))\n",
    "block = web3.eth.get_block(12704257)"
   ]
  },
  {
   "cell_type": "code",
   "execution_count": 12,
   "id": "72a4b217-d369-4965-bd06-19a161a22d23",
   "metadata": {},
   "outputs": [],
   "source": [
    "tx_list = []\n",
    "start_time = datetime.now()\n",
    "for tx_hash in block['transactions']:\n",
    "    tx = web3.eth.get_transaction(tx_hash)\n",
    "    tx_list.append(tx)\n",
    "    # tx_obj = {'addr_sender': tx['from'], 'addr_receiver': tx['to'], 'value': tx['value']}\n",
    "end_time = datetime.now()    \n",
    "dt = end_time - start_time"
   ]
  },
  {
   "cell_type": "code",
   "execution_count": 13,
   "id": "20fe534b-95c7-41d4-9ac6-0a2215cf7ffd",
   "metadata": {},
   "outputs": [
    {
     "data": {
      "text/plain": [
       "AttributeDict({'blockHash': HexBytes('0x2f9ab7d09e43a03822ca5c1a4fc90631a6b9c288c479478f0370f98d125f976e'),\n",
       " 'blockNumber': 12704257,\n",
       " 'from': '0x5C8f0741103aF1F9f7D570a6E21997A39F3AB1f6',\n",
       " 'gas': 52503,\n",
       " 'gasPrice': 29000001459,\n",
       " 'hash': HexBytes('0x18ac4a984b1a01359e2383812457f74df11cfa7f72d36b61fba5fdb6b3a6c4c9'),\n",
       " 'input': '0xa9059cbb000000000000000000000000131dc1e7524bf4dac4d61727477814ebed4636ce000000000000000000000000000000000000000000000abf7cff7b2fce900000',\n",
       " 'nonce': 3,\n",
       " 'to': '0xAAA7A10a8ee237ea61E8AC46C50A8Db8bCC1baaa',\n",
       " 'transactionIndex': 95,\n",
       " 'value': 0,\n",
       " 'type': '0x0',\n",
       " 'v': 38,\n",
       " 'r': HexBytes('0x9774574808afa1ffba43afdc0abfd38d34d813e021e7695f262ab22e762321aa'),\n",
       " 's': HexBytes('0x3ce6353f81b94e215f2d5457771c0084dfc5034a8a9ec62bc2e966fd6cc44130')})"
      ]
     },
     "execution_count": 13,
     "metadata": {},
     "output_type": "execute_result"
    }
   ],
   "source": [
    "tx"
   ]
  },
  {
   "cell_type": "code",
   "execution_count": null,
   "id": "18b72ca9-498e-4c27-b5bc-fb8ef63d122a",
   "metadata": {},
   "outputs": [],
   "source": [
    "tx_list[1]"
   ]
  },
  {
   "cell_type": "code",
   "execution_count": null,
   "id": "40a5ae4e-db61-4fbd-ad9f-53f04760481b",
   "metadata": {},
   "outputs": [],
   "source": [
    "blks_per_day = 6443\n",
    "print('time to pull one block {} secs'.format(dt.seconds))\n",
    "print('time to pull a days worth of blocks {} hrs'.format(blks_per_day*dt.seconds/3600))"
   ]
  }
 ],
 "metadata": {
  "kernelspec": {
   "display_name": "Python 3 (ipykernel)",
   "language": "python",
   "name": "python3"
  },
  "language_info": {
   "codemirror_mode": {
    "name": "ipython",
    "version": 3
   },
   "file_extension": ".py",
   "mimetype": "text/x-python",
   "name": "python",
   "nbconvert_exporter": "python",
   "pygments_lexer": "ipython3",
   "version": "3.9.7"
  }
 },
 "nbformat": 4,
 "nbformat_minor": 5
}
